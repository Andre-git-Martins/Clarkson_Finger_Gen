{
 "cells": [
  {
   "cell_type": "code",
   "execution_count": 1,
   "metadata": {},
   "outputs": [],
   "source": [
    "'''Analysis of the matching for Generated fingerprints'''\n",
    "import os\n",
    "import pandas as pd\n",
    "from glob import glob\n",
    "import seaborn as sns\n",
    "import numpy as np\n",
    "import matplotlib.pyplot as plt\n",
    "from sklearn.metrics import roc_curve, auc"
   ]
  },
  {
   "cell_type": "code",
   "execution_count": 5,
   "metadata": {},
   "outputs": [],
   "source": [
    "input_matches_folder = '/home/cc/Synt/Matching_Real/'"
   ]
  },
  {
   "cell_type": "code",
   "execution_count": 11,
   "metadata": {},
   "outputs": [],
   "source": [
    "files = glob(os.path.join(input_matches_folder,'*'))"
   ]
  },
  {
   "cell_type": "code",
   "execution_count": 13,
   "metadata": {},
   "outputs": [
    {
     "data": {
      "text/plain": [
       "50048"
      ]
     },
     "execution_count": 13,
     "metadata": {},
     "output_type": "execute_result"
    }
   ],
   "source": [
    "len(files)"
   ]
  },
  {
   "cell_type": "code",
   "execution_count": 17,
   "metadata": {},
   "outputs": [],
   "source": [
    "Comparisons = pd.DataFrame()\n",
    "for file in files:\n",
    "    t = pd.read_csv(file, sep=' ', header=None)\n",
    "    prob = file.split('/')[-1][:-4]\n",
    "    t.columns=['Score', 'Gallery']\n",
    "    t['Probe'] = prob\n",
    "    t['Gallery'] = t['Gallery'].apply(lambda x: x.split('/')[-1][:-4])\n",
    "    t = t.sort_values('Score', ascending=False)\n",
    "    t = t.iloc[0:50,:]\n",
    "    Comparisons = pd.concat([Comparisons,t])"
   ]
  },
  {
   "cell_type": "code",
   "execution_count": 20,
   "metadata": {},
   "outputs": [
    {
     "data": {
      "text/plain": [
       "(2502400, 3)"
      ]
     },
     "execution_count": 20,
     "metadata": {},
     "output_type": "execute_result"
    }
   ],
   "source": [
    "Comparisons.shape"
   ]
  },
  {
   "cell_type": "code",
   "execution_count": 21,
   "metadata": {},
   "outputs": [],
   "source": [
    "'''Saving to repository'''\n",
    "Comparisons.to_pickle('/home/cc/Fingerprint_synthesize/Matching/Gen_Live_matching.p')"
   ]
  },
  {
   "cell_type": "code",
   "execution_count": 22,
   "metadata": {},
   "outputs": [
    {
     "data": {
      "text/html": [
       "<div>\n",
       "<style scoped>\n",
       "    .dataframe tbody tr th:only-of-type {\n",
       "        vertical-align: middle;\n",
       "    }\n",
       "\n",
       "    .dataframe tbody tr th {\n",
       "        vertical-align: top;\n",
       "    }\n",
       "\n",
       "    .dataframe thead th {\n",
       "        text-align: right;\n",
       "    }\n",
       "</style>\n",
       "<table border=\"1\" class=\"dataframe\">\n",
       "  <thead>\n",
       "    <tr style=\"text-align: right;\">\n",
       "      <th></th>\n",
       "      <th>Score</th>\n",
       "      <th>Gallery</th>\n",
       "      <th>Probe</th>\n",
       "    </tr>\n",
       "  </thead>\n",
       "  <tbody>\n",
       "    <tr>\n",
       "      <th>70617</th>\n",
       "      <td>32</td>\n",
       "      <td>201738104101_NM2_20160914095752_03_enhanced</td>\n",
       "      <td>21912</td>\n",
       "    </tr>\n",
       "    <tr>\n",
       "      <th>37310</th>\n",
       "      <td>30</td>\n",
       "      <td>200320113002_NM4_20151006131121_04_enhanced</td>\n",
       "      <td>21912</td>\n",
       "    </tr>\n",
       "    <tr>\n",
       "      <th>70647</th>\n",
       "      <td>29</td>\n",
       "      <td>201738104101_NM5_20160914095917_03_enhanced</td>\n",
       "      <td>21912</td>\n",
       "    </tr>\n",
       "    <tr>\n",
       "      <th>44978</th>\n",
       "      <td>28</td>\n",
       "      <td>200391096501_NM1_20170609160834_04_enhanced</td>\n",
       "      <td>21912</td>\n",
       "    </tr>\n",
       "    <tr>\n",
       "      <th>55435</th>\n",
       "      <td>28</td>\n",
       "      <td>201397096403_NM1_20161209095821_03_enhanced</td>\n",
       "      <td>21912</td>\n",
       "    </tr>\n",
       "  </tbody>\n",
       "</table>\n",
       "</div>"
      ],
      "text/plain": [
       "       Score                                      Gallery  Probe\n",
       "70617     32  201738104101_NM2_20160914095752_03_enhanced  21912\n",
       "37310     30  200320113002_NM4_20151006131121_04_enhanced  21912\n",
       "70647     29  201738104101_NM5_20160914095917_03_enhanced  21912\n",
       "44978     28  200391096501_NM1_20170609160834_04_enhanced  21912\n",
       "55435     28  201397096403_NM1_20161209095821_03_enhanced  21912"
      ]
     },
     "execution_count": 22,
     "metadata": {},
     "output_type": "execute_result"
    }
   ],
   "source": [
    "Comparisons.head()"
   ]
  },
  {
   "cell_type": "code",
   "execution_count": 27,
   "metadata": {},
   "outputs": [
    {
     "data": {
      "image/png": "[encoded data removed]",
      "text/plain": [
       "<Figure size 1152x432 with 1 Axes>"
      ]
     },
     "metadata": {
      "needs_background": "light"
     },
     "output_type": "display_data"
    }
   ],
   "source": [
    "plt.figure(figsize=(16,6))\n",
    "bins = np.arange(0,500)\n",
    "sns.histplot(Comparisons.Score,label='Synthetic_vs_Real', bins=bins, stat='density', kde=True)\n",
    "plt.legend()\n",
    "plt.grid()"
   ]
  }
 ],
 "metadata": {
  "kernelspec": {
   "display_name": "Python 3",
   "language": "python",
   "name": "python3"
  },
  "language_info": {
   "codemirror_mode": {
    "name": "ipython",
    "version": 3
   },
   "file_extension": ".py",
   "mimetype": "text/x-python",
   "name": "python",
   "nbconvert_exporter": "python",
   "pygments_lexer": "ipython3",
   "version": "3.8.5"
  }
 },
 "nbformat": 4,
 "nbformat_minor": 2
}
