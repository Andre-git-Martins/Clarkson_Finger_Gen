{
 "cells": [
  {
   "cell_type": "code",
   "execution_count": 3,
   "metadata": {},
   "outputs": [],
   "source": [
    "'''Analysis of the matching for Generated fingerprints'''\n",
    "import os\n",
    "import pandas as pd\n",
    "from glob import glob\n",
    "import seaborn as sns\n",
    "import numpy as np\n",
    "import matplotlib.pyplot as plt\n",
    "import shutil as sh\n",
    "from sklearn.metrics import roc_curve, auc\n",
    "from tqdm import tqdm"
   ]
  },
  {
   "cell_type": "code",
   "execution_count": 4,
   "metadata": {},
   "outputs": [],
   "source": [
    "train_df = pd.read_pickle('/home/cc/Fingerprint_synthesize/Quality/train_df_min.p')"
   ]
  },
  {
   "cell_type": "code",
   "execution_count": 5,
   "metadata": {},
   "outputs": [],
   "source": [
    "# convert to scr for easier processing\n",
    "train_df.FilePath = train_df.FilePath.apply(lambda x: x[:-3]+'scr')"
   ]
  },
  {
   "cell_type": "code",
   "execution_count": 6,
   "metadata": {},
   "outputs": [
    {
     "data": {
      "text/html": [
       "<div>\n",
       "<style scoped>\n",
       "    .dataframe tbody tr th:only-of-type {\n",
       "        vertical-align: middle;\n",
       "    }\n",
       "\n",
       "    .dataframe tbody tr th {\n",
       "        vertical-align: top;\n",
       "    }\n",
       "\n",
       "    .dataframe thead th {\n",
       "        text-align: right;\n",
       "    }\n",
       "</style>\n",
       "<table border=\"1\" class=\"dataframe\">\n",
       "  <thead>\n",
       "    <tr style=\"text-align: right;\">\n",
       "      <th></th>\n",
       "      <th>CaptureID</th>\n",
       "      <th>FingerType</th>\n",
       "      <th>SubjectID</th>\n",
       "      <th>FilePath</th>\n",
       "      <th>Attempt</th>\n",
       "      <th>Finger</th>\n",
       "      <th>ScannerID</th>\n",
       "      <th>CaptureID.1</th>\n",
       "      <th>live_spoof</th>\n",
       "      <th>sensor_model</th>\n",
       "      <th>set_type_fold_9</th>\n",
       "      <th>Collection</th>\n",
       "      <th>Rig_minuta</th>\n",
       "      <th>Bif_minutea</th>\n",
       "      <th>AVG_Rel</th>\n",
       "      <th>AVG_Rel_Rid</th>\n",
       "      <th>AVG_Rel_Bif</th>\n",
       "      <th>Size</th>\n",
       "      <th>NFIQ2</th>\n",
       "    </tr>\n",
       "  </thead>\n",
       "  <tbody>\n",
       "    <tr>\n",
       "      <th>95275</th>\n",
       "      <td>Pre_51351</td>\n",
       "      <td>Live</td>\n",
       "      <td>121651651511</td>\n",
       "      <td>121651651511_NM1_20170911165212_01_enhanced.scr</td>\n",
       "      <td>1</td>\n",
       "      <td>1</td>\n",
       "      <td>NaN</td>\n",
       "      <td>Pre_51351</td>\n",
       "      <td>0</td>\n",
       "      <td>crossmatch</td>\n",
       "      <td>tr</td>\n",
       "      <td>Pre</td>\n",
       "      <td>59</td>\n",
       "      <td>9</td>\n",
       "      <td>0.517397</td>\n",
       "      <td>0.521424</td>\n",
       "      <td>0.491000</td>\n",
       "      <td>111424</td>\n",
       "      <td>75</td>\n",
       "    </tr>\n",
       "    <tr>\n",
       "      <th>95276</th>\n",
       "      <td>Pre_51352</td>\n",
       "      <td>Live</td>\n",
       "      <td>121651651511</td>\n",
       "      <td>121651651511_NM1_20170911165212_02_enhanced.scr</td>\n",
       "      <td>1</td>\n",
       "      <td>2</td>\n",
       "      <td>NaN</td>\n",
       "      <td>Pre_51352</td>\n",
       "      <td>0</td>\n",
       "      <td>crossmatch</td>\n",
       "      <td>tr</td>\n",
       "      <td>Pre</td>\n",
       "      <td>40</td>\n",
       "      <td>8</td>\n",
       "      <td>0.587333</td>\n",
       "      <td>0.579600</td>\n",
       "      <td>0.626000</td>\n",
       "      <td>75520</td>\n",
       "      <td>74</td>\n",
       "    </tr>\n",
       "    <tr>\n",
       "      <th>95277</th>\n",
       "      <td>Pre_51353</td>\n",
       "      <td>Live</td>\n",
       "      <td>121651651511</td>\n",
       "      <td>121651651511_NM1_20170911165212_03_enhanced.scr</td>\n",
       "      <td>1</td>\n",
       "      <td>3</td>\n",
       "      <td>NaN</td>\n",
       "      <td>Pre_51353</td>\n",
       "      <td>0</td>\n",
       "      <td>crossmatch</td>\n",
       "      <td>tr</td>\n",
       "      <td>Pre</td>\n",
       "      <td>46</td>\n",
       "      <td>6</td>\n",
       "      <td>0.509462</td>\n",
       "      <td>0.514457</td>\n",
       "      <td>0.471167</td>\n",
       "      <td>72384</td>\n",
       "      <td>64</td>\n",
       "    </tr>\n",
       "    <tr>\n",
       "      <th>95278</th>\n",
       "      <td>Pre_51354</td>\n",
       "      <td>Live</td>\n",
       "      <td>121651651511</td>\n",
       "      <td>121651651511_NM1_20170911165212_04_enhanced.scr</td>\n",
       "      <td>1</td>\n",
       "      <td>4</td>\n",
       "      <td>NaN</td>\n",
       "      <td>Pre_51354</td>\n",
       "      <td>0</td>\n",
       "      <td>crossmatch</td>\n",
       "      <td>tr</td>\n",
       "      <td>Pre</td>\n",
       "      <td>51</td>\n",
       "      <td>16</td>\n",
       "      <td>0.552269</td>\n",
       "      <td>0.543294</td>\n",
       "      <td>0.580875</td>\n",
       "      <td>80704</td>\n",
       "      <td>54</td>\n",
       "    </tr>\n",
       "    <tr>\n",
       "      <th>95279</th>\n",
       "      <td>Pre_51355</td>\n",
       "      <td>Live</td>\n",
       "      <td>121651651511</td>\n",
       "      <td>121651651511_NM1_20170911165212_05_enhanced.scr</td>\n",
       "      <td>1</td>\n",
       "      <td>5</td>\n",
       "      <td>NaN</td>\n",
       "      <td>Pre_51355</td>\n",
       "      <td>0</td>\n",
       "      <td>crossmatch</td>\n",
       "      <td>tr</td>\n",
       "      <td>Pre</td>\n",
       "      <td>44</td>\n",
       "      <td>15</td>\n",
       "      <td>0.493237</td>\n",
       "      <td>0.481023</td>\n",
       "      <td>0.529067</td>\n",
       "      <td>77952</td>\n",
       "      <td>54</td>\n",
       "    </tr>\n",
       "  </tbody>\n",
       "</table>\n",
       "</div>"
      ],
      "text/plain": [
       "       CaptureID FingerType     SubjectID  \\\n",
       "95275  Pre_51351       Live  121651651511   \n",
       "95276  Pre_51352       Live  121651651511   \n",
       "95277  Pre_51353       Live  121651651511   \n",
       "95278  Pre_51354       Live  121651651511   \n",
       "95279  Pre_51355       Live  121651651511   \n",
       "\n",
       "                                              FilePath  Attempt  Finger  \\\n",
       "95275  121651651511_NM1_20170911165212_01_enhanced.scr        1       1   \n",
       "95276  121651651511_NM1_20170911165212_02_enhanced.scr        1       2   \n",
       "95277  121651651511_NM1_20170911165212_03_enhanced.scr        1       3   \n",
       "95278  121651651511_NM1_20170911165212_04_enhanced.scr        1       4   \n",
       "95279  121651651511_NM1_20170911165212_05_enhanced.scr        1       5   \n",
       "\n",
       "      ScannerID CaptureID.1  live_spoof sensor_model set_type_fold_9  \\\n",
       "95275       NaN   Pre_51351           0   crossmatch              tr   \n",
       "95276       NaN   Pre_51352           0   crossmatch              tr   \n",
       "95277       NaN   Pre_51353           0   crossmatch              tr   \n",
       "95278       NaN   Pre_51354           0   crossmatch              tr   \n",
       "95279       NaN   Pre_51355           0   crossmatch              tr   \n",
       "\n",
       "      Collection  Rig_minuta  Bif_minutea   AVG_Rel  AVG_Rel_Rid  AVG_Rel_Bif  \\\n",
       "95275        Pre          59            9  0.517397     0.521424     0.491000   \n",
       "95276        Pre          40            8  0.587333     0.579600     0.626000   \n",
       "95277        Pre          46            6  0.509462     0.514457     0.471167   \n",
       "95278        Pre          51           16  0.552269     0.543294     0.580875   \n",
       "95279        Pre          44           15  0.493237     0.481023     0.529067   \n",
       "\n",
       "         Size  NFIQ2  \n",
       "95275  111424     75  \n",
       "95276   75520     74  \n",
       "95277   72384     64  \n",
       "95278   80704     54  \n",
       "95279   77952     54  "
      ]
     },
     "execution_count": 6,
     "metadata": {},
     "output_type": "execute_result"
    }
   ],
   "source": [
    "train_df.head()"
   ]
  },
  {
   "cell_type": "code",
   "execution_count": 7,
   "metadata": {},
   "outputs": [],
   "source": [
    "input_matches_folder = '/home/cc/Data/Zips/Matching_Real_VS_Real/'"
   ]
  },
  {
   "cell_type": "code",
   "execution_count": 16,
   "metadata": {},
   "outputs": [],
   "source": [
    "files = os.listdir(input_matches_folder)"
   ]
  },
  {
   "cell_type": "code",
   "execution_count": 17,
   "metadata": {},
   "outputs": [
    {
     "data": {
      "text/plain": [
       "72743"
      ]
     },
     "execution_count": 17,
     "metadata": {},
     "output_type": "execute_result"
    }
   ],
   "source": [
    "len(files)"
   ]
  },
  {
   "cell_type": "code",
   "execution_count": 18,
   "metadata": {},
   "outputs": [],
   "source": [
    "'''Checking all the data is there and fixing the typos'''\n",
    "train_samples = train_df.FilePath.tolist()\n",
    "error = []\n",
    "indexes = []\n",
    "for i, file in enumerate(files):\n",
    "    if file not in train_samples:\n",
    "        error.append(file)\n",
    "        indexes.append(i)\n",
    "        \n",
    "renamed = []\n",
    "for j, file in enumerate(error):\n",
    "    # correct files with bad naming\n",
    "    if file[-3:] != 'scr':\n",
    "        os.rename(os.path.join(input_matches_folder, files[indexes[j]]), os.path.join(input_matches_folder, files[indexes[j]]+'.scr'))\n",
    "        renamed.append([file,j])"
   ]
  },
  {
   "cell_type": "code",
   "execution_count": 30,
   "metadata": {},
   "outputs": [],
   "source": [
    "files = sorted(os.listdir(input_matches_folder))"
   ]
  },
  {
   "cell_type": "code",
   "execution_count": 24,
   "metadata": {},
   "outputs": [],
   "source": [
    "'''Checking all the data is there'''\n",
    "train_samples = train_df.FilePath.tolist()\n",
    "error = []\n",
    "indexes = []\n",
    "for i, file in enumerate(files):\n",
    "    if file not in train_samples:\n",
    "        error.append(file)\n",
    "        indexes.append(i)"
   ]
  },
  {
   "cell_type": "code",
   "execution_count": 25,
   "metadata": {},
   "outputs": [
    {
     "data": {
      "text/plain": [
       "0"
      ]
     },
     "execution_count": 25,
     "metadata": {},
     "output_type": "execute_result"
    }
   ],
   "source": [
    "len(error)"
   ]
  },
  {
   "cell_type": "code",
   "execution_count": 26,
   "metadata": {},
   "outputs": [
    {
     "data": {
      "text/plain": [
       "[]"
      ]
     },
     "execution_count": 26,
     "metadata": {},
     "output_type": "execute_result"
    }
   ],
   "source": [
    "error"
   ]
  },
  {
   "cell_type": "code",
   "execution_count": null,
   "metadata": {},
   "outputs": [],
   "source": [
    "#for each scr file i need a list of mated and non mated, this way I will read it once. "
   ]
  },
  {
   "cell_type": "code",
   "execution_count": null,
   "metadata": {},
   "outputs": [
    {
     "name": "stderr",
     "output_type": "stream",
     "text": [
      "Progress:  10%|█         | 1844/18000 [20:02<3:09:28,  1.42it/s]"
     ]
    }
   ],
   "source": [
    "Mated = pd.DataFrame()\n",
    "Non_Mated = pd.DataFrame()\n",
    "\n",
    "for i in tqdm(range(0,18000), desc=\"Progress\"):\n",
    "    file = files[i]\n",
    "    file_df = train_df[train_df.FilePath ==file]\n",
    "    subject = file_df.SubjectID.item()\n",
    "    finger = file_df.Finger.item()\n",
    "    t = pd.read_csv(os.path.join(input_matches_folder, file), sep=' ', header=None)\n",
    "    #print(t.shape)\n",
    "    t.columns=['Score', 'Gallery']\n",
    "    prob = file.split('/')[-1][:-4]\n",
    "    t['prob'] = prob\n",
    "    t.Gallery = t.Gallery.apply(lambda x: x.split('/')[-1][:-4])\n",
    "    #which ones are mated pair for this file\n",
    "    subject_df = train_df[train_df.SubjectID == subject]\n",
    "    # all of these files are for the same finger of the same subjects\n",
    "    temp_mated_df = subject_df[subject_df.Finger == finger]\n",
    "    for sample in temp_mated_df.FilePath:\n",
    "        comp = t[t.Gallery == sample[:-4]]\n",
    "        t = t.drop(index=comp.index.item())\n",
    "        Mated = pd.concat([Mated, comp])\n",
    "    #which ones are non mated pair for this file\n",
    "    samples_df = t.sample(1000) # we select 100 at random\n",
    "    Non_Mated = pd.concat([Non_Mated, samples_df])"
   ]
  },
  {
   "cell_type": "code",
   "execution_count": null,
   "metadata": {},
   "outputs": [],
   "source": [
    "Mated.to_pickle('/home/cc/Mated_df_1.p')\n",
    "Non_Mated.to_pickle('/home/cc/Non_Mated_df_1.p')"
   ]
  },
  {
   "cell_type": "code",
   "execution_count": 29,
   "metadata": {},
   "outputs": [
    {
     "data": {
      "text/plain": [
       "<matplotlib.axes._subplots.AxesSubplot at 0x7f99da694cc0>"
      ]
     },
     "execution_count": 29,
     "metadata": {},
     "output_type": "execute_result"
    },
    {
     "data": {
      "image/png": "[encoded data removed]",
      "text/plain": [
       "<Figure size 432x288 with 1 Axes>"
      ]
     },
     "metadata": {
      "needs_background": "light"
     },
     "output_type": "display_data"
    }
   ],
   "source": [
    "Mated.Score.hist(bins=range(0,300,10), density=True)\n",
    "Non_Mated.Score.hist(bins=range(0,300,10), density=True)"
   ]
  }
 ],
 "metadata": {
  "kernelspec": {
   "display_name": "Python 3",
   "language": "python",
   "name": "python3"
  }
 },
 "nbformat": 4,
 "nbformat_minor": 2
}
