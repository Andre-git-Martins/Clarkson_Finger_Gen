{
 "cells": [
  {
   "cell_type": "code",
   "execution_count": null,
   "metadata": {},
   "outputs": [],
   "source": [
    "import numpy as np\n",
    "import shutil as sh\n",
    "import skimage.io as io\n",
    "import os\n",
    "import glob\n",
    "from skimage.util import pad"
   ]
  },
  {
   "cell_type": "code",
   "execution_count": null,
   "metadata": {},
   "outputs": [],
   "source": [
    "#This code resized all the datasets to 512 by 512\n",
    "'''putting everything in one folder for augmentaition'''\n",
    "resized = '/home/cc/Data/Resized'\n",
    "if not os.path.exists(resized):\n",
    "    os.makedirs(resized)\n",
    "    \n",
    "files1 = glob.glob('/home/cc/Data/Images/Precise Dataset/**/*.bmp', recursive=True)\n",
    "files2 = glob.glob('/home/cc/Data/Images/Precise Dataset/**/*.png', recursive=True)\n",
    "filesall = files+files2"
   ]
  },
  {
   "cell_type": "code",
   "execution_count": null,
   "metadata": {},
   "outputs": [],
   "source": [
    "for file in filesall:\n",
    "    loc = file.split('/')\n",
    "    dst = resized+'/'+loc[-1]\n",
    "    img = io.imread(file)\n",
    "    w,h = img.shape\n",
    "    if w != 512:\n",
    "        img2 = pad(img, (int((512-w)/2),int((512-h)/2)) , mode = 'constant', constant_values=255)\n",
    "        io.imsave(dst,img2)"
   ]
  }
 ],
 "metadata": {
  "kernelspec": {
   "display_name": "Python 3",
   "language": "python",
   "name": "python3"
  },
  "language_info": {
   "codemirror_mode": {
    "name": "ipython",
    "version": 3
   },
   "file_extension": ".py",
   "mimetype": "text/x-python",
   "name": "python",
   "nbconvert_exporter": "python",
   "pygments_lexer": "ipython3",
   "version": "3.7.3"
  }
 },
 "nbformat": 4,
 "nbformat_minor": 2
}
