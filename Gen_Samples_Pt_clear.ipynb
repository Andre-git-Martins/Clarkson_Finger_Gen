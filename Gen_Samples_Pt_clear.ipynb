{
  "nbformat": 4,
  "nbformat_minor": 0,
  "metadata": {
    "kernelspec": {
      "display_name": "Python 3",
      "language": "python",
      "name": "python3"
    },
    "language_info": {
      "codemirror_mode": {
        "name": "ipython",
        "version": 3
      },
      "file_extension": ".py",
      "mimetype": "text/x-python",
      "name": "python",
      "nbconvert_exporter": "python",
      "pygments_lexer": "ipython3",
      "version": "3.6.8"
    },
    "colab": {
      "name": "Gen_Samples.ipynb",
      "provenance": []
    },
    "accelerator": "GPU"
  },
  "cells": [
    {
      "cell_type": "code",
      "metadata": {
        "id": "hcDlSfu4jc2t"
      },
      "source": [
        "!wget --load-cookies /tmp/cookies.txt \"https://docs.google.com/uc?export=download&confirm=$(wget --quiet --save-cookies /tmp/cookies.txt --keep-session-cookies --no-check-certificate 'https://docs.google.com/uc?export=download&id=1-DmqPWGZkTUndCRcQS3M-MGr2Yva5lCl' -O- | sed -rn 's/.*confirm=([0-9A-Za-z_]+).*/\\1\\n/p')&id=1-DmqPWGZkTUndCRcQS3M-MGr2Yva5lCl\" -O Clarkson_Crossmatch.pth && rm -rf /tmp/cookies.txt"
      ],
      "execution_count": null,
      "outputs": []
    },
    {
      "cell_type": "code",
      "metadata": {
        "id": "J2qQo3k1jExA"
      },
      "source": [
        "!git clone https://github.com/keivanB/Clarkson_Finger_Gen"
      ],
      "execution_count": null,
      "outputs": []
    },
    {
      "cell_type": "code",
      "source": [
        "# using Pytorch to run the converted weights \n",
        "#https://github.com/huangzh13/StyleGAN.pytorch"
      ],
      "metadata": {
        "id": "AdkA2lMESV0y"
      },
      "execution_count": null,
      "outputs": []
    },
    {
      "cell_type": "code",
      "source": [
        "!git clone https://github.com/huangzh13/StyleGAN.pytorch"
      ],
      "metadata": {
        "id": "SpAO5nAtDB4T"
      },
      "execution_count": null,
      "outputs": []
    },
    {
      "cell_type": "code",
      "source": [
        "!pip install yacs"
      ],
      "metadata": {
        "id": "kpMGRKzdStt6"
      },
      "execution_count": null,
      "outputs": []
    },
    {
      "cell_type": "code",
      "source": [
        "import os\n",
        "import sys\n",
        "new_path = '/content/StyleGAN.pytorch'\n",
        "sys.path.append(new_path)\n",
        "import numpy as np\n",
        "from tqdm import tqdm\n",
        "\n",
        "import torch\n",
        "from torchvision.utils import save_image\n",
        "\n",
        "from models.GAN import Generator\n",
        "from config import cfg as opt\n",
        "import matplotlib.pyplot as plt"
      ],
      "metadata": {
        "id": "y4b9YuDwDQ70"
      },
      "execution_count": null,
      "outputs": []
    },
    {
      "cell_type": "code",
      "source": [
        "def adjust_dynamic_range(data, drange_in=(-1, 1), drange_out=(0, 1)):\n",
        "    \"\"\"\n",
        "    adjust the dynamic colour range of the given input data\n",
        "    :param data: input image data\n",
        "    :param drange_in: original range of input\n",
        "    :param drange_out: required range of output\n",
        "    :return: img => colour range adjusted images\n",
        "    \"\"\"\n",
        "    if drange_in != drange_out:\n",
        "        scale = (np.float32(drange_out[1]) - np.float32(drange_out[0])) / (\n",
        "                np.float32(drange_in[1]) - np.float32(drange_in[0]))\n",
        "        bias = (np.float32(drange_out[0]) - np.float32(drange_in[0]) * scale)\n",
        "        data = data * scale + bias\n",
        "    return torch.clamp(data, min=0, max=1)"
      ],
      "metadata": {
        "id": "-KWG9uSrQyY9"
      },
      "execution_count": null,
      "outputs": []
    },
    {
      "cell_type": "code",
      "source": [
        "#inputs for Pytorch\n",
        "Path_config = \"/content/Clarkson_Finger_Gen/sample_clarkson.yaml\"\n",
        "Path_model = \"/content/Clarkson_Crossmatch.pth\"\n",
        "Num_samples = 32 # number of sample that you want.\n",
        "# Creating a folder for saving samples\n",
        "save_path = '/content/Generated_Samples'\n",
        "os.makedirs(save_path, exist_ok=True)"
      ],
      "metadata": {
        "id": "BRZEygIHTB2u"
      },
      "execution_count": null,
      "outputs": []
    },
    {
      "cell_type": "code",
      "source": [
        "opt.merge_from_file(Path_config)\n",
        "opt.freeze()"
      ],
      "metadata": {
        "id": "McQ8ZRiJR1GR"
      },
      "execution_count": null,
      "outputs": []
    },
    {
      "cell_type": "code",
      "source": [
        "print(\"Creating generator object ...\")\n",
        "# create the generator object\n",
        "gen = Generator(resolution=opt.dataset.resolution,\n",
        "                num_channels=opt.dataset.channels,\n",
        "                structure=opt.structure,\n",
        "                **opt.model.gen)\n",
        "\n",
        "print(\"Loading the generator weights from:\", Path_model)\n",
        "# load the weights into it\n",
        "gen.load_state_dict(torch.load(Path_model))"
      ],
      "metadata": {
        "id": "7qs4LP2JSqXu"
      },
      "execution_count": null,
      "outputs": []
    },
    {
      "cell_type": "code",
      "source": [
        "# path for saving the files:\n",
        "\n",
        "latent_size = opt.model.gen.latent_size\n",
        "out_depth = int(np.log2(opt.dataset.resolution)) - 2\n",
        "\n",
        "\n",
        "print(\"Generating scale synchronized images ...\")\n",
        "for img_num in tqdm(range(1, Num_samples + 1)):\n",
        "    # generate the images:\n",
        "    with torch.no_grad():\n",
        "        point = torch.randn(1, latent_size)\n",
        "        point = (point / point.norm()) * (latent_size ** 0.5)\n",
        "        ss_image = gen(point, depth=out_depth, alpha=1)\n",
        "        # color adjust the generated image:\n",
        "        ss_image = adjust_dynamic_range(ss_image)\n",
        "\n",
        "    # save the ss_image in the directory\n",
        "    save_image(ss_image, os.path.join(save_path, str(img_num) + \".png\"))\n",
        "\n",
        "    print(\"Generated %d images at %s\" % (Num_samples, save_path))"
      ],
      "metadata": {
        "id": "DP8xi97bS8Sz"
      },
      "execution_count": null,
      "outputs": []
    },
    {
      "cell_type": "code",
      "source": [
        "fig, ax = plt.subplots(8,4, figsize=(30,30))\n",
        "for i in range(32):\n",
        "    r = int(i%4)\n",
        "    c = int(i/4)\n",
        "    ax[c,r].imshow(plt.imread(os.path.join(save_path, str(i+1)+'.png')))"
      ],
      "metadata": {
        "id": "MZMEJHLlUXtj"
      },
      "execution_count": null,
      "outputs": []
    }
  ]
}