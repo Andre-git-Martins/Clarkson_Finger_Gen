{
 "cells": [
  {
   "cell_type": "code",
   "execution_count": 2,
   "metadata": {},
   "outputs": [],
   "source": [
    "'''Code to train Autoencoder for fingerprints'''\n",
    "import os\n",
    "import numpy as np\n",
    "import pandas as pd\n",
    "import tensorflow as tf\n",
    "from tensorflow.keras.layers import Input, Dense, Reshape, Flatten, Dropout, Conv2D,Conv2DTranspose\n",
    "from tensorflow.keras.layers import BatchNormalization, Activation, ZeroPadding2D,LeakyReLU\n",
    "from tensorflow.keras.models import Sequential, load_model\n",
    "from tensorflow.keras.optimizers import RMSprop, Adam\n",
    "from tensorflow.keras.initializers import RandomNormal\n",
    "from tensorflow.keras.preprocessing.image import ImageDataGenerator\n",
    "from tensorflow.keras.regularizers import l2\n",
    "\n",
    "from tensorflow.keras.callbacks import TensorBoard,ModelCheckpoint\n",
    "\n",
    "import matplotlib.pyplot as plt"
   ]
  },
  {
   "cell_type": "code",
   "execution_count": 3,
   "metadata": {},
   "outputs": [],
   "source": [
    "data_pd = pd.read_pickle('/home/cc/Data/Zips/cm_index_df_fixed.p')"
   ]
  },
  {
   "cell_type": "code",
   "execution_count": null,
   "metadata": {},
   "outputs": [],
   "source": [
    "data_pd.shape"
   ]
  },
  {
   "cell_type": "code",
   "execution_count": 4,
   "metadata": {},
   "outputs": [],
   "source": [
    "data_pd['FilePath']= data_pd.FilePath.apply(lambda x: os.path.join('/home/cc/Data/Images',x))"
   ]
  },
  {
   "cell_type": "code",
   "execution_count": null,
   "metadata": {},
   "outputs": [],
   "source": [
    "data_live = data_pd[data_pd.live_spoof == 0] # only live samples"
   ]
  },
  {
   "cell_type": "code",
   "execution_count": null,
   "metadata": {},
   "outputs": [],
   "source": [
    "data_live.shape"
   ]
  },
  {
   "cell_type": "code",
   "execution_count": null,
   "metadata": {},
   "outputs": [],
   "source": [
    "data_live['Collection'] = data_live.CaptureID.apply(lambda x: x[0:3])"
   ]
  },
  {
   "cell_type": "code",
   "execution_count": null,
   "metadata": {},
   "outputs": [],
   "source": [
    "data_live['Collection'].unique()"
   ]
  },
  {
   "cell_type": "code",
   "execution_count": null,
   "metadata": {},
   "outputs": [],
   "source": [
    "resize_df = data_live[data_live.Collection =='Pre']\n",
    "resize_df.shape"
   ]
  },
  {
   "cell_type": "code",
   "execution_count": null,
   "metadata": {},
   "outputs": [],
   "source": [
    "def rescaleimage(image):\n",
    "    image=(image-127.5)/127.5\n",
    "    return image\n",
    "def reverseimage(image):\n",
    "    image=(image/2)+0.5\n",
    "    return image"
   ]
  },
  {
   "cell_type": "code",
   "execution_count": null,
   "metadata": {},
   "outputs": [],
   "source": [
    "img_rows = 512\n",
    "img_cols = 512\n",
    "channels = 3 # I am using channel last models\n",
    "img_shape = (img_rows, img_cols, channels)\n",
    "latent_dim = 512\n",
    "batch_size=256\n",
    "\n",
    "inputTrain ='/home/cc/Data/Images'\n",
    "\n",
    "datagen=ImageDataGenerator(preprocessing_function=rescaleimage)\n",
    "#datagen=ImageDataGenerator(preprocessing_function=rescaleimage, horizontal_flip=True, vertical_flip=True)\n",
    "batch_size=256\n",
    "image_generator=datagen.flow_from_dataframe(\n",
    "    directory = inputTrain,\n",
    "    dataframe = resize_df, \n",
    "    color_mode='rgb',\n",
    "    x_col = 'FilePath',\n",
    "    batch_size= batch_size,\n",
    "    target_size=(img_rows,img_cols),\n",
    "    class_mode='input',\n",
    "    shuffle=True\n",
    "    )"
   ]
  },
  {
   "cell_type": "code",
   "execution_count": 5,
   "metadata": {},
   "outputs": [],
   "source": [
    "initialize=RandomNormal(mean=0.0, stddev=0.02, seed=None)\n",
    "'''\n",
    "G_ENC\n",
    "'''\n",
    "CAE = Sequential()\n",
    "CAE.add(Conv2D(16, kernel_size=4, strides=2, kernel_regularizer=l2(0.0005), kernel_initializer=initialize, input_shape=(512,512,3), padding=\"same\"))\n",
    "CAE.add(BatchNormalization(momentum=0.8))\n",
    "CAE.add(LeakyReLU(alpha=0.2))\n",
    "\n",
    "CAE.add(Conv2D(32, kernel_size=4, strides=2, kernel_regularizer=l2(0.0005), kernel_initializer=initialize, padding=\"same\"))\n",
    "CAE.add(BatchNormalization(momentum=0.8))\n",
    "CAE.add(LeakyReLU(alpha=0.2))\n",
    "\n",
    "CAE.add(Conv2D(64, kernel_size=4, strides=2, kernel_regularizer=l2(0.0005), kernel_initializer=initialize, padding=\"same\"))\n",
    "CAE.add(BatchNormalization(momentum=0.8))\n",
    "CAE.add(LeakyReLU(alpha=0.2))\n",
    "\n",
    "CAE.add(Conv2D(128, kernel_size=4, strides=2, kernel_regularizer=l2(0.0005), kernel_initializer=initialize, padding=\"same\"))\n",
    "CAE.add(BatchNormalization(momentum=0.8))\n",
    "CAE.add(LeakyReLU(alpha=0.2))\n",
    "\n",
    "CAE.add(Conv2D(256, kernel_size=4, strides=2, kernel_regularizer=l2(0.0005), kernel_initializer=initialize, padding=\"same\"))\n",
    "CAE.add(BatchNormalization(momentum=0.8))\n",
    "CAE.add(LeakyReLU(alpha=0.2))\n",
    "\n",
    "CAE.add(Conv2D(512, kernel_size=4, strides=2, kernel_regularizer=l2(0.0005), kernel_initializer=initialize, padding=\"same\"))\n",
    "CAE.add(BatchNormalization(momentum=0.8))\n",
    "CAE.add(LeakyReLU(alpha=0.2))\n",
    "\n",
    "CAE.add(Conv2D(1024, kernel_size=4, strides=2, kernel_regularizer=l2(0.0005), kernel_initializer=initialize, padding=\"same\"))\n",
    "CAE.add(BatchNormalization(momentum=0.8))\n",
    "CAE.add(LeakyReLU(alpha=0.2))\n",
    "\n",
    "CAE.add(Flatten())\n",
    "CAE.add(Dense(512))\n",
    "CAE.add(BatchNormalization(momentum=0.8))\n",
    "CAE.add(LeakyReLU(alpha=0.2))\n",
    "\n",
    "'''\n",
    "G-DEC\n",
    "'''\n",
    "CAE.add(Dense(1024 * 4 * 4))\n",
    "CAE.add(BatchNormalization(momentum=0.8))\n",
    "CAE.add(Activation('relu'))\n",
    "CAE.add(Reshape((4, 4, 1024)))\n",
    "CAE.add(Conv2DTranspose(512, kernel_size=4, strides=2, kernel_regularizer=l2(0.0005), kernel_initializer=initialize, padding=\"same\"))\n",
    "CAE.add(BatchNormalization(momentum=0.8))\n",
    "CAE.add(Activation('relu'))        \n",
    "CAE.add(Conv2DTranspose(256, kernel_size=4, strides=2, kernel_regularizer=l2(0.0005), kernel_initializer=initialize, padding=\"same\"))\n",
    "CAE.add(BatchNormalization(momentum=0.8))\n",
    "CAE.add(Activation('relu'))\n",
    "CAE.add(Conv2DTranspose(128, kernel_size=4, strides=2, kernel_regularizer=l2(0.0005), kernel_initializer=initialize, padding=\"same\"))\n",
    "CAE.add(BatchNormalization(momentum=0.8))\n",
    "CAE.add(Activation('relu'))        \n",
    "CAE.add(Conv2DTranspose(64, kernel_size=4, strides=2, kernel_regularizer=l2(0.0005), kernel_initializer=initialize, padding=\"same\"))\n",
    "CAE.add(BatchNormalization(momentum=0.8))\n",
    "CAE.add(Activation('relu'))\n",
    "CAE.add(Conv2DTranspose(32, kernel_size=4, strides=2, kernel_regularizer=l2(0.0005), kernel_initializer=initialize, padding=\"same\"))\n",
    "CAE.add(BatchNormalization(momentum=0.8))\n",
    "CAE.add(Activation('relu'))\n",
    "CAE.add(Conv2DTranspose(16, kernel_size=4, strides=2, kernel_regularizer=l2(0.0005), kernel_initializer=initialize, padding=\"same\"))\n",
    "CAE.add(BatchNormalization(momentum=0.8))\n",
    "CAE.add(Activation('relu'))\n",
    "CAE.add(Conv2DTranspose(3, kernel_size=4, strides=2, kernel_regularizer=l2(0.0005), kernel_initializer=initialize, padding=\"same\"))\n",
    "CAE.add(BatchNormalization(momentum=0.8))\n",
    "CAE.add(Activation('tanh'))\n",
    "\n",
    "optimizer=Adam(lr=0.0001, beta_1=0.5, beta_2=0.999, epsilon=None, decay=0.0001, amsgrad=True)\n",
    "CAE.compile(loss='mse', optimizer=optimizer)"
   ]
  },
  {
   "cell_type": "code",
   "execution_count": 6,
   "metadata": {},
   "outputs": [],
   "source": [
    "latest = tf.train.latest_checkpoint('/home/cc/Data/CAE')"
   ]
  },
  {
   "cell_type": "code",
   "execution_count": 7,
   "metadata": {},
   "outputs": [
    {
     "data": {
      "text/plain": [
       "<tensorflow.python.training.tracking.util.CheckpointLoadStatus at 0x7f1bc1528c90>"
      ]
     },
     "execution_count": 7,
     "metadata": {},
     "output_type": "execute_result"
    }
   ],
   "source": [
    "CAE.load_weights(latest)"
   ]
  },
  {
   "cell_type": "code",
   "execution_count": 8,
   "metadata": {},
   "outputs": [
    {
     "name": "stdout",
     "output_type": "stream",
     "text": [
      "Model: \"sequential\"\n",
      "_________________________________________________________________\n",
      "Layer (type)                 Output Shape              Param #   \n",
      "=================================================================\n",
      "conv2d (Conv2D)              (None, 256, 256, 16)      784       \n",
      "_________________________________________________________________\n",
      "batch_normalization (BatchNo (None, 256, 256, 16)      64        \n",
      "_________________________________________________________________\n",
      "leaky_re_lu (LeakyReLU)      (None, 256, 256, 16)      0         \n",
      "_________________________________________________________________\n",
      "conv2d_1 (Conv2D)            (None, 128, 128, 32)      8224      \n",
      "_________________________________________________________________\n",
      "batch_normalization_1 (Batch (None, 128, 128, 32)      128       \n",
      "_________________________________________________________________\n",
      "leaky_re_lu_1 (LeakyReLU)    (None, 128, 128, 32)      0         \n",
      "_________________________________________________________________\n",
      "conv2d_2 (Conv2D)            (None, 64, 64, 64)        32832     \n",
      "_________________________________________________________________\n",
      "batch_normalization_2 (Batch (None, 64, 64, 64)        256       \n",
      "_________________________________________________________________\n",
      "leaky_re_lu_2 (LeakyReLU)    (None, 64, 64, 64)        0         \n",
      "_________________________________________________________________\n",
      "conv2d_3 (Conv2D)            (None, 32, 32, 128)       131200    \n",
      "_________________________________________________________________\n",
      "batch_normalization_3 (Batch (None, 32, 32, 128)       512       \n",
      "_________________________________________________________________\n",
      "leaky_re_lu_3 (LeakyReLU)    (None, 32, 32, 128)       0         \n",
      "_________________________________________________________________\n",
      "conv2d_4 (Conv2D)            (None, 16, 16, 256)       524544    \n",
      "_________________________________________________________________\n",
      "batch_normalization_4 (Batch (None, 16, 16, 256)       1024      \n",
      "_________________________________________________________________\n",
      "leaky_re_lu_4 (LeakyReLU)    (None, 16, 16, 256)       0         \n",
      "_________________________________________________________________\n",
      "conv2d_5 (Conv2D)            (None, 8, 8, 512)         2097664   \n",
      "_________________________________________________________________\n",
      "batch_normalization_5 (Batch (None, 8, 8, 512)         2048      \n",
      "_________________________________________________________________\n",
      "leaky_re_lu_5 (LeakyReLU)    (None, 8, 8, 512)         0         \n",
      "_________________________________________________________________\n",
      "conv2d_6 (Conv2D)            (None, 4, 4, 1024)        8389632   \n",
      "_________________________________________________________________\n",
      "batch_normalization_6 (Batch (None, 4, 4, 1024)        4096      \n",
      "_________________________________________________________________\n",
      "leaky_re_lu_6 (LeakyReLU)    (None, 4, 4, 1024)        0         \n",
      "_________________________________________________________________\n",
      "flatten (Flatten)            (None, 16384)             0         \n",
      "_________________________________________________________________\n",
      "dense (Dense)                (None, 512)               8389120   \n",
      "_________________________________________________________________\n",
      "batch_normalization_7 (Batch (None, 512)               2048      \n",
      "_________________________________________________________________\n",
      "leaky_re_lu_7 (LeakyReLU)    (None, 512)               0         \n",
      "_________________________________________________________________\n",
      "dense_1 (Dense)              (None, 16384)             8404992   \n",
      "_________________________________________________________________\n",
      "batch_normalization_8 (Batch (None, 16384)             65536     \n",
      "_________________________________________________________________\n",
      "activation (Activation)      (None, 16384)             0         \n",
      "_________________________________________________________________\n",
      "reshape (Reshape)            (None, 4, 4, 1024)        0         \n",
      "_________________________________________________________________\n",
      "conv2d_transpose (Conv2DTran (None, 8, 8, 512)         8389120   \n",
      "_________________________________________________________________\n",
      "batch_normalization_9 (Batch (None, 8, 8, 512)         2048      \n",
      "_________________________________________________________________\n",
      "activation_1 (Activation)    (None, 8, 8, 512)         0         \n",
      "_________________________________________________________________\n",
      "conv2d_transpose_1 (Conv2DTr (None, 16, 16, 256)       2097408   \n",
      "_________________________________________________________________\n",
      "batch_normalization_10 (Batc (None, 16, 16, 256)       1024      \n",
      "_________________________________________________________________\n",
      "activation_2 (Activation)    (None, 16, 16, 256)       0         \n",
      "_________________________________________________________________\n",
      "conv2d_transpose_2 (Conv2DTr (None, 32, 32, 128)       524416    \n",
      "_________________________________________________________________\n",
      "batch_normalization_11 (Batc (None, 32, 32, 128)       512       \n",
      "_________________________________________________________________\n",
      "activation_3 (Activation)    (None, 32, 32, 128)       0         \n",
      "_________________________________________________________________\n",
      "conv2d_transpose_3 (Conv2DTr (None, 64, 64, 64)        131136    \n",
      "_________________________________________________________________\n",
      "batch_normalization_12 (Batc (None, 64, 64, 64)        256       \n",
      "_________________________________________________________________\n",
      "activation_4 (Activation)    (None, 64, 64, 64)        0         \n",
      "_________________________________________________________________\n",
      "conv2d_transpose_4 (Conv2DTr (None, 128, 128, 32)      32800     \n",
      "_________________________________________________________________\n",
      "batch_normalization_13 (Batc (None, 128, 128, 32)      128       \n",
      "_________________________________________________________________\n",
      "activation_5 (Activation)    (None, 128, 128, 32)      0         \n",
      "_________________________________________________________________\n",
      "conv2d_transpose_5 (Conv2DTr (None, 256, 256, 16)      8208      \n",
      "_________________________________________________________________\n",
      "batch_normalization_14 (Batc (None, 256, 256, 16)      64        \n",
      "_________________________________________________________________\n",
      "activation_6 (Activation)    (None, 256, 256, 16)      0         \n",
      "_________________________________________________________________\n",
      "conv2d_transpose_6 (Conv2DTr (None, 512, 512, 3)       771       \n",
      "_________________________________________________________________\n",
      "batch_normalization_15 (Batc (None, 512, 512, 3)       12        \n",
      "_________________________________________________________________\n",
      "activation_7 (Activation)    (None, 512, 512, 3)       0         \n",
      "=================================================================\n",
      "Total params: 39,242,607\n",
      "Trainable params: 39,202,729\n",
      "Non-trainable params: 39,878\n",
      "_________________________________________________________________\n"
     ]
    }
   ],
   "source": [
    "CAE.summary()"
   ]
  },
  {
   "cell_type": "code",
   "execution_count": 9,
   "metadata": {},
   "outputs": [],
   "source": [
    "CAE.save_weights('/home/cc/Data/CAE/CAE_v2_weights.h5', 'h5')"
   ]
  },
  {
   "cell_type": "code",
   "execution_count": 10,
   "metadata": {},
   "outputs": [],
   "source": [
    "CAE.save('/home/cc/Data/CAE/CAE_v2.h5', 'h5')"
   ]
  },
  {
   "cell_type": "code",
   "execution_count": null,
   "metadata": {},
   "outputs": [],
   "source": [
    "x1 = image_generator.next()[0]\n",
    "x = CAE.predict(x1)"
   ]
  },
  {
   "cell_type": "code",
   "execution_count": null,
   "metadata": {},
   "outputs": [],
   "source": [
    "img1 = []\n",
    "img2 = []\n",
    "N = [0,1, 2, 3, 4, 5]\n",
    "for n in N:\n",
    "    img1.append(x1[n,:,:,:])\n",
    "    img2.append(x[n,:,:,:])"
   ]
  },
  {
   "cell_type": "code",
   "execution_count": null,
   "metadata": {},
   "outputs": [],
   "source": [
    "for n in N:\n",
    "    img1[n] = img1[n]/2\n",
    "    img1[n] = img1[n]+0.5\n",
    "    img2[n] = img2[n]/2\n",
    "    img2[n] = img2[n]+0.5"
   ]
  },
  {
   "cell_type": "code",
   "execution_count": null,
   "metadata": {},
   "outputs": [],
   "source": [
    "import matplotlib.pyplot as plt\n",
    "i=1\n",
    "plt.figure(figsize=(10, 10))\n",
    "for n in N:\n",
    "    plt.subplot(6,2,i)\n",
    "    plt.imshow(img1[n])\n",
    "    i= i+1\n",
    "    plt.subplot(6,2,i)\n",
    "    plt.imshow(img2[n])\n",
    "    i=i+1"
   ]
  },
  {
   "cell_type": "code",
   "execution_count": null,
   "metadata": {},
   "outputs": [],
   "source": [
    "plt.figure(figsize=(10, 10))\n",
    "plt.imshow(img1[1], cmap='gray')"
   ]
  },
  {
   "cell_type": "code",
   "execution_count": null,
   "metadata": {},
   "outputs": [],
   "source": [
    "plt.figure(figsize=(10, 10))\n",
    "plt.imshow(img2[1], cmap='gray')"
   ]
  }
 ],
 "metadata": {
  "kernelspec": {
   "display_name": "Python 3",
   "language": "python",
   "name": "python3"
  },
  "language_info": {
   "codemirror_mode": {
    "name": "ipython",
    "version": 3
   },
   "file_extension": ".py",
   "mimetype": "text/x-python",
   "name": "python",
   "nbconvert_exporter": "python",
   "pygments_lexer": "ipython3",
   "version": "3.7.6"
  }
 },
 "nbformat": 4,
 "nbformat_minor": 2
}
