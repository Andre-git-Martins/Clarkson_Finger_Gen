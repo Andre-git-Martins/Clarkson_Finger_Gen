{
 "cells": [
  {
   "cell_type": "code",
   "execution_count": 2,
   "metadata": {},
   "outputs": [],
   "source": [
    "'''Code to train Autoencoder for fingerprints'''\n",
    "import os\n",
    "import numpy as np\n",
    "import pandas as pd\n",
    "\n",
    "from tensorflow.keras.layers import Input, Dense, Reshape, Flatten, Dropout, Conv2D,Conv2DTranspose\n",
    "from tensorflow.keras.layers import BatchNormalization, Activation, ZeroPadding2D,LeakyReLU\n",
    "from tensorflow.keras.models import Sequential\n",
    "from tensorflow.keras.optimizers import RMSprop, Adam\n",
    "from tensorflow.keras.initializers import RandomNormal\n",
    "from tensorflow.keras.preprocessing.image import ImageDataGenerator\n",
    "from tensorflow.keras.regularizers import l2\n",
    "import matplotlib.pyplot as plt\n",
    "from skimage import util"
   ]
  },
  {
   "cell_type": "code",
   "execution_count": 3,
   "metadata": {},
   "outputs": [],
   "source": [
    "data_pd = pd.read_pickle('/home/cc/Data/Zips/cm_index_df_fixed.p')"
   ]
  },
  {
   "cell_type": "code",
   "execution_count": null,
   "metadata": {},
   "outputs": [],
   "source": [
    "data_pd.shape"
   ]
  },
  {
   "cell_type": "code",
   "execution_count": 4,
   "metadata": {},
   "outputs": [],
   "source": [
    "data_pd['FilePath']= data_pd.FilePath.apply(lambda x: os.path.join('/home/cc/Data/Images',x))"
   ]
  },
  {
   "cell_type": "code",
   "execution_count": 6,
   "metadata": {},
   "outputs": [],
   "source": [
    "data_live = data_pd[data_pd.live_spoof == 0] # only live samples"
   ]
  },
  {
   "cell_type": "code",
   "execution_count": 7,
   "metadata": {},
   "outputs": [
    {
     "data": {
      "text/plain": [
       "(271240, 20)"
      ]
     },
     "execution_count": 7,
     "metadata": {},
     "output_type": "execute_result"
    }
   ],
   "source": [
    "data_live.shape"
   ]
  },
  {
   "cell_type": "code",
   "execution_count": 8,
   "metadata": {},
   "outputs": [
    {
     "name": "stderr",
     "output_type": "stream",
     "text": [
      "/home/cc/anaconda3/envs/Clarkson/lib/python3.7/site-packages/ipykernel_launcher.py:1: SettingWithCopyWarning: \n",
      "A value is trying to be set on a copy of a slice from a DataFrame.\n",
      "Try using .loc[row_indexer,col_indexer] = value instead\n",
      "\n",
      "See the caveats in the documentation: https://pandas.pydata.org/pandas-docs/stable/user_guide/indexing.html#returning-a-view-versus-a-copy\n",
      "  \"\"\"Entry point for launching an IPython kernel.\n"
     ]
    }
   ],
   "source": [
    "data_live['Collection'] = data_live.CaptureID.apply(lambda x: x[0:3])"
   ]
  },
  {
   "cell_type": "code",
   "execution_count": 14,
   "metadata": {},
   "outputs": [
    {
     "data": {
      "text/plain": [
       "array(['dc1', 'Pre', 'L13', 'L15'], dtype=object)"
      ]
     },
     "execution_count": 14,
     "metadata": {},
     "output_type": "execute_result"
    }
   ],
   "source": [
    "data_live['Collection'].unique()"
   ]
  },
  {
   "cell_type": "code",
   "execution_count": 115,
   "metadata": {},
   "outputs": [
    {
     "data": {
      "text/plain": [
       "(236345, 21)"
      ]
     },
     "execution_count": 115,
     "metadata": {},
     "output_type": "execute_result"
    }
   ],
   "source": [
    "resize_df = data_live[data_live.Collection =='Pre']\n",
    "resize_df.shape"
   ]
  },
  {
   "cell_type": "code",
   "execution_count": null,
   "metadata": {},
   "outputs": [],
   "source": [
    "'''Resizing to 512,512'''\n",
    "#resize_df = data_live[np.logical_or(data_live.Collection =='dc1',data_live.Collection =='Pre')]\n",
    "resize_df = data_live[data_live.Collection =='Pre']\n",
    "for i in range(863,len(resize_df)):\n",
    "    X = 512\n",
    "    Y = 512\n",
    "    img = plt.imread(resize_df.iloc[i,3])\n",
    "    img2 = np.pad(img, ((100,100), (100,100)), 'constant', constant_values=(1, 1))\n",
    "    plt.imsave(resize_df.iloc[i,3],img2)"
   ]
  },
  {
   "cell_type": "code",
   "execution_count": 123,
   "metadata": {},
   "outputs": [
    {
     "name": "stdout",
     "output_type": "stream",
     "text": [
      "Found 236345 validated image filenames.\n"
     ]
    }
   ],
   "source": [
    "img_rows = 512\n",
    "img_cols = 512\n",
    "channels = 3 # I am using channel last models\n",
    "img_shape = (img_rows, img_cols, channels)\n",
    "latent_dim = 512\n",
    "batch_size=1000\n",
    "\n",
    "inputTrain ='/home/cc/Data/Images'\n",
    "fit_datagen = ImageDataGenerator(rescale=1/255)\n",
    "\n",
    "fit_generator=fit_datagen.flow_from_dataframe(\n",
    "    directory = inputTrain,\n",
    "    dataframe = resize_df, \n",
    "    color_mode='rgb',\n",
    "    x_col = 'FilePath',\n",
    "    batch_size= batch_size,\n",
    "    target_size=(img_rows,img_cols),\n",
    "    class_mode=None,\n",
    "    shuffle=True\n",
    "    )"
   ]
  },
  {
   "cell_type": "code",
   "execution_count": 124,
   "metadata": {},
   "outputs": [],
   "source": [
    "x = fit_generator.next()"
   ]
  },
  {
   "cell_type": "code",
   "execution_count": 133,
   "metadata": {},
   "outputs": [
    {
     "name": "stdout",
     "output_type": "stream",
     "text": [
      "Found 236345 validated image filenames.\n"
     ]
    }
   ],
   "source": [
    "datagen=ImageDataGenerator(featurewise_center=True, featurewise_std_normalization=True, rescale=1/255)\n",
    "\n",
    "batch_size=256\n",
    "image_generator=datagen.flow_from_dataframe(\n",
    "    directory = inputTrain,\n",
    "    dataframe = resize_df, \n",
    "    color_mode='rgb',\n",
    "    x_col = 'FilePath',\n",
    "    batch_size= batch_size,\n",
    "    target_size=(img_rows,img_cols),\n",
    "    class_mode='input',\n",
    "    shuffle=True\n",
    "    )"
   ]
  },
  {
   "cell_type": "code",
   "execution_count": 134,
   "metadata": {},
   "outputs": [],
   "source": [
    "'''Fiting our generator to 1000 samples'''\n",
    "datagen.fit(x)"
   ]
  },
  {
   "cell_type": "code",
   "execution_count": 135,
   "metadata": {},
   "outputs": [
    {
     "data": {
      "text/plain": [
       "array([[[0.064, 0.064, 0.064]]], dtype=float32)"
      ]
     },
     "execution_count": 135,
     "metadata": {},
     "output_type": "execute_result"
    }
   ],
   "source": [
    "datagen.mean"
   ]
  },
  {
   "cell_type": "code",
   "execution_count": 136,
   "metadata": {},
   "outputs": [
    {
     "data": {
      "text/plain": [
       "array([[[0.25298223, 0.25298223, 0.25298223]]], dtype=float32)"
      ]
     },
     "execution_count": 136,
     "metadata": {},
     "output_type": "execute_result"
    }
   ],
   "source": [
    "datagen.std"
   ]
  },
  {
   "cell_type": "code",
   "execution_count": 137,
   "metadata": {},
   "outputs": [],
   "source": [
    "y = image_generator.next()"
   ]
  },
  {
   "cell_type": "code",
   "execution_count": 144,
   "metadata": {},
   "outputs": [
    {
     "name": "stderr",
     "output_type": "stream",
     "text": [
      "Clipping input data to the valid range for imshow with RGB data ([0..1] for floats or [0..255] for integers).\n"
     ]
    },
    {
     "data": {
      "text/plain": [
       "<matplotlib.image.AxesImage at 0x7f32e8cee190>"
      ]
     },
     "execution_count": 144,
     "metadata": {},
     "output_type": "execute_result"
    },
    {
     "data": {
      "image/png": "[encoded data removed]",
      "text/plain": [
       "<Figure size 432x288 with 1 Axes>"
      ]
     },
     "metadata": {
      "needs_background": "light"
     },
     "output_type": "display_data"
    }
   ],
   "source": [
    "plt.imshow(y[0][1,:,:,:], cmap='gray')"
   ]
  },
  {
   "cell_type": "code",
   "execution_count": null,
   "metadata": {},
   "outputs": [],
   "source": [
    "initialize=RandomNormal(mean=0.0, stddev=0.02, seed=None)\n",
    "'''\n",
    "G_ENC\n",
    "'''\n",
    "CAE = Sequential()\n",
    "CAE.add(Conv2D(16, kernel_size=4, strides=2, kernel_regularizer=l2(0.0005), kernel_initializer=initialize, input_shape=(512,512,3), padding=\"same\"))\n",
    "CAE.add(BatchNormalization(momentum=0.8))\n",
    "CAE.add(LeakyReLU(alpha=0.2))\n",
    "\n",
    "CAE.add(Conv2D(32, kernel_size=4, strides=2, kernel_regularizer=l2(0.0005), kernel_initializer=initialize, padding=\"same\"))\n",
    "CAE.add(BatchNormalization(momentum=0.8))\n",
    "CAE.add(LeakyReLU(alpha=0.2))\n",
    "\n",
    "CAE.add(Conv2D(64, kernel_size=4, strides=2, kernel_regularizer=l2(0.0005), kernel_initializer=initialize, padding=\"same\"))\n",
    "CAE.add(BatchNormalization(momentum=0.8))\n",
    "CAE.add(LeakyReLU(alpha=0.2))\n",
    "\n",
    "CAE.add(Conv2D(128, kernel_size=4, strides=2, kernel_regularizer=l2(0.0005), kernel_initializer=initialize, padding=\"same\"))\n",
    "CAE.add(BatchNormalization(momentum=0.8))\n",
    "CAE.add(LeakyReLU(alpha=0.2))\n",
    "\n",
    "CAE.add(Conv2D(256, kernel_size=4, strides=2, kernel_regularizer=l2(0.0005), kernel_initializer=initialize, padding=\"same\"))\n",
    "CAE.add(BatchNormalization(momentum=0.8))\n",
    "CAE.add(LeakyReLU(alpha=0.2))\n",
    "\n",
    "CAE.add(Conv2D(512, kernel_size=4, strides=2, kernel_regularizer=l2(0.0005), kernel_initializer=initialize, padding=\"same\"))\n",
    "CAE.add(BatchNormalization(momentum=0.8))\n",
    "CAE.add(LeakyReLU(alpha=0.2))\n",
    "\n",
    "CAE.add(Conv2D(1024, kernel_size=4, strides=2, kernel_regularizer=l2(0.0005), kernel_initializer=initialize, padding=\"same\"))\n",
    "CAE.add(BatchNormalization(momentum=0.8))\n",
    "CAE.add(LeakyReLU(alpha=0.2))\n",
    "\n",
    "CAE.add(Flatten())\n",
    "CAE.add(Dense(512))\n",
    "CAE.add(BatchNormalization(momentum=0.8))\n",
    "CAE.add(LeakyReLU(alpha=0.2))\n",
    "\n",
    "'''\n",
    "G-DEC\n",
    "'''\n",
    "\n",
    "CAE.add(Dense(1024 * 4 * 4))\n",
    "CAE.add(BatchNormalization(momentum=0.8))\n",
    "CAE.add(Activation('relu'))\n",
    "CAE.add(Reshape((4, 4, 1024)))\n",
    "CAE.add(Conv2DTranspose(512, kernel_size=4, strides=2, kernel_regularizer=l2(0.0005), kernel_initializer=initialize, padding=\"same\"))\n",
    "CAE.add(BatchNormalization(momentum=0.8))\n",
    "CAE.add(Activation('relu'))        \n",
    "CAE.add(Conv2DTranspose(256, kernel_size=4, strides=2, kernel_regularizer=l2(0.0005), kernel_initializer=initialize, padding=\"same\"))\n",
    "CAE.add(BatchNormalization(momentum=0.8))\n",
    "CAE.add(Activation('relu'))\n",
    "CAE.add(Conv2DTranspose(128, kernel_size=4, strides=2, kernel_regularizer=l2(0.0005), kernel_initializer=initialize, padding=\"same\"))\n",
    "CAE.add(BatchNormalization(momentum=0.8))\n",
    "CAE.add(Activation('relu'))        \n",
    "CAE.add(Conv2DTranspose(64, kernel_size=4, strides=2, kernel_regularizer=l2(0.0005), kernel_initializer=initialize, padding=\"same\"))\n",
    "CAE.add(BatchNormalization(momentum=0.8))\n",
    "CAE.add(Activation('relu'))\n",
    "CAE.add(Conv2DTranspose(32, kernel_size=4, strides=2, kernel_regularizer=l2(0.0005), kernel_initializer=initialize, padding=\"same\"))\n",
    "CAE.add(BatchNormalization(momentum=0.8))\n",
    "CAE.add(Activation('relu'))\n",
    "CAE.add(Conv2DTranspose(16, kernel_size=4, strides=2, kernel_regularizer=l2(0.0005), kernel_initializer=initialize, padding=\"same\"))\n",
    "CAE.add(BatchNormalization(momentum=0.8))\n",
    "CAE.add(Activation('relu'))\n",
    "CAE.add(Conv2DTranspose(3, kernel_size=4, strides=2, kernel_regularizer=l2(0.0005), kernel_initializer=initialize, padding=\"same\"))\n",
    "CAE.add(BatchNormalization(momentum=0.8))\n",
    "CAE.add(Activation('tanh'))\n",
    "\n",
    "optimizer=Adam(lr=0.0001, beta_1=0.5, beta_2=0.999, epsilon=None, decay=0.0001, amsgrad=True)\n",
    "CAE.compile(loss='mse', optimizer=optimizer)"
   ]
  },
  {
   "cell_type": "code",
   "execution_count": null,
   "metadata": {},
   "outputs": [],
   "source": [
    "CAE.fit(image_generator, steps_per_epoch=len(image_generator), epochs=100, verbose=1)"
   ]
  },
  {
   "cell_type": "code",
   "execution_count": 117,
   "metadata": {},
   "outputs": [
    {
     "name": "stderr",
     "output_type": "stream",
     "text": [
      "/home/cc/anaconda3/envs/Clarkson/lib/python3.7/site-packages/keras_preprocessing/image/image_data_generator.py:716: UserWarning: This ImageDataGenerator specifies `featurewise_center`, but it hasn't been fit on any training data. Fit it first by calling `.fit(numpy_data)`.\n",
      "  warnings.warn('This ImageDataGenerator specifies '\n",
      "/home/cc/anaconda3/envs/Clarkson/lib/python3.7/site-packages/keras_preprocessing/image/image_data_generator.py:724: UserWarning: This ImageDataGenerator specifies `featurewise_std_normalization`, but it hasn't been fit on any training data. Fit it first by calling `.fit(numpy_data)`.\n",
      "  warnings.warn('This ImageDataGenerator specifies '\n"
     ]
    }
   ],
   "source": [
    "x = image_generator.next()"
   ]
  },
  {
   "cell_type": "code",
   "execution_count": null,
   "metadata": {},
   "outputs": [],
   "source": [
    "def rescaleimage(image):\n",
    "    image=(image-127.5)/127.5\n",
    "    return image\n",
    "def reverseimage(image):\n",
    "    image=(image/2)+0.5\n",
    "    return image"
   ]
  },
  {
   "cell_type": "code",
   "execution_count": null,
   "metadata": {},
   "outputs": [],
   "source": []
  },
  {
   "cell_type": "code",
   "execution_count": null,
   "metadata": {},
   "outputs": [],
   "source": [
    "from keras.models import load_model\n",
    "#CAE = load_model('/home/cc/Data/Model_CAE_v3_final3')\n",
    "#parallel_model = multi_gpu_model(CAE, gpus=Ngpus, cpu_relocation=False)\n",
    "#optimizer=Adam(lr=0.00001, beta_1=0.5, beta_2=0.999, epsilon=None, decay=0.001, amsgrad=True)\n",
    "#parallel_model.compile(loss='mse', optimizer=optimizer)"
   ]
  },
  {
   "cell_type": "code",
   "execution_count": null,
   "metadata": {},
   "outputs": [],
   "source": [
    "from keras.callbacks import TensorBoard, ModelCheckpoint\n",
    "TS = TensorBoard(log_dir='/home/cc/Data/Tests/logs', histogram_freq=0, batch_size=batch_size)\n",
    "MC = ModelCheckpoint(os.path.join('/home/cc/Data/Tests','MC'), \n",
    "                        monitor='loss', verbose=0, save_best_only=True, \n",
    "                        save_weights_only=True, mode='auto', period=1)\n",
    "\n",
    "parallel_model.fit_generator(g, steps_per_epoch=len(p.augmentor_images)/batch_size, epochs=100, \n",
    "                             verbose=1, max_queue_size=30, workers=6, use_multiprocessing=True, callbacks=[TS, MC])"
   ]
  },
  {
   "cell_type": "code",
   "execution_count": null,
   "metadata": {},
   "outputs": [],
   "source": [
    "CAE.save('/home/cc/Data/Model_CAE')"
   ]
  },
  {
   "cell_type": "code",
   "execution_count": null,
   "metadata": {},
   "outputs": [],
   "source": [
    "x1 = image_generator.next()[0]\n",
    "x = CAE.predict(x1)"
   ]
  },
  {
   "cell_type": "code",
   "execution_count": null,
   "metadata": {},
   "outputs": [],
   "source": [
    "img1 = []\n",
    "img2 = []\n",
    "N = [0,1,2, 3, 4, 5,]\n",
    "for n in N:\n",
    "    img1.append(x1[n,:,:,:])\n",
    "    img2.append(x[n,:,:,:])"
   ]
  },
  {
   "cell_type": "code",
   "execution_count": null,
   "metadata": {},
   "outputs": [],
   "source": [
    "for n in N:\n",
    "    img1[n] = img1[n]/2\n",
    "    img1[n] = img1[n]+0.5\n",
    "    img2[n] = img2[n]/2\n",
    "    img2[n] = img2[n]+0.5"
   ]
  },
  {
   "cell_type": "code",
   "execution_count": null,
   "metadata": {},
   "outputs": [],
   "source": [
    "import matplotlib.pyplot as plt\n",
    "i=1\n",
    "plt.figure(figsize=(10, 10))\n",
    "for n in N:\n",
    "    plt.subplot(6,2,i)\n",
    "    plt.imshow(img1[n])\n",
    "    i= i+1\n",
    "    plt.subplot(6,2,i)\n",
    "    plt.imshow(img2[n])\n",
    "    i=i+1"
   ]
  },
  {
   "cell_type": "code",
   "execution_count": null,
   "metadata": {},
   "outputs": [],
   "source": [
    "plt.figure(figsize=(10, 10))\n",
    "plt.imshow(img2[0])"
   ]
  }
 ],
 "metadata": {
  "kernelspec": {
   "display_name": "Python 3",
   "language": "python",
   "name": "python3"
  },
  "language_info": {
   "codemirror_mode": {
    "name": "ipython",
    "version": 3
   },
   "file_extension": ".py",
   "mimetype": "text/x-python",
   "name": "python",
   "nbconvert_exporter": "python",
   "pygments_lexer": "ipython3",
   "version": "3.7.6"
  }
 },
 "nbformat": 4,
 "nbformat_minor": 2
}
