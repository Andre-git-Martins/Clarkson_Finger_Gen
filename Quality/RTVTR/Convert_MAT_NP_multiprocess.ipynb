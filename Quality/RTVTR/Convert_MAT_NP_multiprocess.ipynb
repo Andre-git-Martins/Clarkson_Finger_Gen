{
 "cells": [
  {
   "cell_type": "code",
   "execution_count": null,
   "metadata": {},
   "outputs": [],
   "source": [
    "import numpy as np\n",
    "import os\n",
    "import matplotlib.pyplot as plt\n",
    "import skimage\n",
    "import skimage.io as io\n",
    "import dill\n",
    "import pandas as pd\n",
    "import scipy.io as sio\n",
    "import multiprocessing"
   ]
  },
  {
   "cell_type": "code",
   "execution_count": null,
   "metadata": {},
   "outputs": [],
   "source": [
    "FLoc = '/home/citer/Desktop/Fingerprint_Age/Clarkson_Age_Estimation/Processed Images/Features/RTVTR/Matlab'\n",
    "FLoc2 = '/home/citer/Desktop/Fingerprint_Age/Clarkson_Age_Estimation/Processed Images/Features/RTVTR/test'\n",
    "if not os.path.exists(FLoc2):\n",
    "    os.makedirs(FLoc2)"
   ]
  },
  {
   "cell_type": "code",
   "execution_count": null,
   "metadata": {},
   "outputs": [],
   "source": [
    "files = os.listdir(FLoc)\n",
    "len(files)"
   ]
  },
  {
   "cell_type": "code",
   "execution_count": null,
   "metadata": {},
   "outputs": [],
   "source": [
    "l = 3000  # number of files for each process\n",
    "n = int(len(files)/l)\n",
    "Sections = []\n",
    "for i in range(n):\n",
    "    Sections.append(files[i*l:(i+1)*l])\n",
    "Sections.append(files[n*l:])"
   ]
  },
  {
   "cell_type": "code",
   "execution_count": null,
   "metadata": {},
   "outputs": [],
   "source": [
    "def Convert_to_NP(files):\n",
    "    for file in files:\n",
    "        temp_m = sio.loadmat(os.path.join(FLoc,file))\n",
    "        temp_clean = {} \n",
    "        temp_clean['Q_RVU']= temp_m['Q_RVU']\n",
    "        temp_clean['Q_RVU_local']= temp_m['Q_RVU_local']\n",
    "        temp_clean['Q_Ratios']= temp_m['Q_Ratios']\n",
    "        temp_clean['Q_RC']= temp_m['Q_RC']\n",
    "        temp_clean['Q_WLC']= temp_m['Q_WLC']\n",
    "        np.save(os.path.join(FLoc2,file[:-3]+'npy'),temp_clean)"
   ]
  },
  {
   "cell_type": "code",
   "execution_count": null,
   "metadata": {},
   "outputs": [],
   "source": [
    "Process_List = []\n",
    "for i in range(len(Sections)):\n",
    "    P = multiprocessing.Process(target=Convert_to_NP, args=[Sections[i]])\n",
    "    P.start()\n",
    "    Process_List.append(P)\n",
    "\n",
    "for P in Process_List:\n",
    "    P.join()"
   ]
  }
 ],
 "metadata": {
  "kernelspec": {
   "display_name": "Python 3",
   "language": "python",
   "name": "python3"
  },
  "language_info": {
   "codemirror_mode": {
    "name": "ipython",
    "version": 3
   },
   "file_extension": ".py",
   "mimetype": "text/x-python",
   "name": "python",
   "nbconvert_exporter": "python",
   "pygments_lexer": "ipython3",
   "version": "3.8.5"
  }
 },
 "nbformat": 4,
 "nbformat_minor": 2
}
