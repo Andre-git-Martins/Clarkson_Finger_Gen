{
 "cells": [
  {
   "cell_type": "code",
   "execution_count": 5,
   "metadata": {},
   "outputs": [],
   "source": [
    "import numpy as np\n",
    "import os\n",
    "import matplotlib.pyplot as plt\n",
    "import skimage.io as io\n",
    "import dill\n",
    "import pandas as pd\n",
    "import multiprocessing\n",
    "import scipy.io as sio\n",
    "FLoc = '/home/citer/Desktop/GANS/Generated_images_512_BMP/RTVTR/Live_RTVTR/'\n",
    "FLoc2  = '/home/citer/Desktop/GANS/Generated_images_512_BMP/RTVTR/Live_RTVTR_numpy/'\n",
    "\n",
    "if not os.path.exists(FLoc2):\n",
    "    os.makedirs(FLoc2)"
   ]
  },
  {
   "cell_type": "code",
   "execution_count": 2,
   "metadata": {},
   "outputs": [],
   "source": [
    "'''Calculating Feature vector for all samples'''\n",
    "filenames = os.listdir(FLoc)\n",
    "i = 0\n",
    "for file in filenames:\n",
    "    temp_m = sio.loadmat(os.path.join(FLoc,file))\n",
    "    temp_clean = {} \n",
    "    temp_clean['Q_RVU']= temp_m['Q_RVU']\n",
    "    temp_clean['Q_RVU_local']= temp_m['Q_RVU_local']\n",
    "    temp_clean['Q_Ratios']= temp_m['Q_Ratios']\n",
    "    temp_clean['Q_RC']= temp_m['Q_RC']\n",
    "    temp_clean['Q_WLC']= temp_m['Q_WLC']\n",
    "    np.save(os.path.join(FLoc2,file[:-3]+'npy'),temp_clean)\n",
    "    #print(i)\n",
    "    i = i+1"
   ]
  },
  {
   "cell_type": "code",
   "execution_count": 3,
   "metadata": {},
   "outputs": [],
   "source": [
    "FLoc3 = '/home/citer/Desktop/GANS/Generated_images_512_BMP/RTVTR/Generated_RTVTR/'\n",
    "FLoc4  = '/home/citer/Desktop/GANS/Generated_images_512_BMP/RTVTR/Generated_RTVTR_numpy/'\n",
    "\n",
    "if not os.path.exists(FLoc4):\n",
    "    os.makedirs(FLoc4)"
   ]
  },
  {
   "cell_type": "code",
   "execution_count": 4,
   "metadata": {},
   "outputs": [],
   "source": [
    "filenames = os.listdir(FLoc3)\n",
    "i = 0\n",
    "for file in filenames:\n",
    "    temp_m = sio.loadmat(os.path.join(FLoc3,file))\n",
    "    temp_clean = {} \n",
    "    temp_clean['Q_RVU']= temp_m['Q_RVU']\n",
    "    temp_clean['Q_RVU_local']= temp_m['Q_RVU_local']\n",
    "    temp_clean['Q_Ratios']= temp_m['Q_Ratios']\n",
    "    temp_clean['Q_RC']= temp_m['Q_RC']\n",
    "    temp_clean['Q_WLC']= temp_m['Q_WLC']\n",
    "    np.save(os.path.join(FLoc4,file[:-3]+'npy'),temp_clean)\n",
    "    #print(i)\n",
    "    i = i+1"
   ]
  }
 ],
 "metadata": {
  "kernelspec": {
   "display_name": "Python 3",
   "language": "python",
   "name": "python3"
  },
  "language_info": {
   "codemirror_mode": {
    "name": "ipython",
    "version": 3
   },
   "file_extension": ".py",
   "mimetype": "text/x-python",
   "name": "python",
   "nbconvert_exporter": "python",
   "pygments_lexer": "ipython3",
   "version": "3.7.5"
  }
 },
 "nbformat": 4,
 "nbformat_minor": 2
}
