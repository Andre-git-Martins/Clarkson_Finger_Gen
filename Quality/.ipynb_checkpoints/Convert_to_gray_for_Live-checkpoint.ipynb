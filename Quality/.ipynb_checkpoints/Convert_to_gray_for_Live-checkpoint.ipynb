{
 "cells": [
  {
   "cell_type": "code",
   "execution_count": 30,
   "metadata": {},
   "outputs": [],
   "source": [
    "'Converting our RGB JPEG images from Stylgan to 8 bit gray scale for NBIS'\n",
    "\n",
    "import os \n",
    "import cv2\n",
    "import pandas as pd\n",
    "import matplotlib.pyplot as plt\n",
    "import numpy as np"
   ]
  },
  {
   "cell_type": "code",
   "execution_count": 17,
   "metadata": {},
   "outputs": [
    {
     "name": "stderr",
     "output_type": "stream",
     "text": [
      "/home/citer/anaconda3/envs/Clarkson_NNI/lib/python3.7/site-packages/ipykernel_launcher.py:5: SettingWithCopyWarning: \n",
      "A value is trying to be set on a copy of a slice from a DataFrame.\n",
      "Try using .loc[row_indexer,col_indexer] = value instead\n",
      "\n",
      "See the caveats in the documentation: http://pandas.pydata.org/pandas-docs/stable/indexing.html#indexing-view-versus-copy\n",
      "  \"\"\"\n"
     ]
    },
    {
     "data": {
      "text/plain": [
       "(236345, 21)"
      ]
     },
     "execution_count": 17,
     "metadata": {},
     "output_type": "execute_result"
    }
   ],
   "source": [
    "'''Putting all the live samples in one folder for TF record'''\n",
    "data_pd = pd.read_pickle('/home/citer/Desktop/GANS/cm_index_df_fixed.p')\n",
    "data_pd['FilePath']= data_pd.FilePath.apply(lambda x: os.path.join('/home/citer/Desktop/GANS/Generated_images_512_JPEG/Crossmatch',x))\n",
    "data_live = data_pd[data_pd.live_spoof == 0] # only live samples\n",
    "data_live['Collection'] = data_live.CaptureID.apply(lambda x: x[0:3])\n",
    "resize_df = data_live[data_live.Collection =='Pre']\n",
    "resize_df.shape"
   ]
  },
  {
   "cell_type": "code",
   "execution_count": 18,
   "metadata": {},
   "outputs": [],
   "source": [
    "unique_subjects = sorted(resize_df.SubjectID.unique())"
   ]
  },
  {
   "cell_type": "code",
   "execution_count": 19,
   "metadata": {},
   "outputs": [],
   "source": [
    "'''Selecting 250 subjects'''\n",
    "train_subject = unique_subjects[0:250]"
   ]
  },
  {
   "cell_type": "code",
   "execution_count": 20,
   "metadata": {},
   "outputs": [],
   "source": [
    "Train_df = pd.DataFrame()\n",
    "for subject in train_subject:\n",
    "    sub_df = resize_df[resize_df.SubjectID== subject]\n",
    "    Train_df = pd.concat([Train_df,sub_df])"
   ]
  },
  {
   "cell_type": "code",
   "execution_count": 13,
   "metadata": {},
   "outputs": [
    {
     "data": {
      "text/plain": [
       "(72743, 21)"
      ]
     },
     "execution_count": 13,
     "metadata": {},
     "output_type": "execute_result"
    }
   ],
   "source": [
    "Train_df.shape"
   ]
  },
  {
   "cell_type": "code",
   "execution_count": 7,
   "metadata": {},
   "outputs": [],
   "source": [
    "Train_df.to_pickle('/home/citer/Desktop/Fingerprint_synthesize/train_df.p')"
   ]
  },
  {
   "cell_type": "code",
   "execution_count": 4,
   "metadata": {},
   "outputs": [],
   "source": [
    "Train_df = pd.read_pickle('/home/citer/Desktop/Fingerprint_synthesize/Quality/train_df.p')"
   ]
  },
  {
   "cell_type": "code",
   "execution_count": 21,
   "metadata": {},
   "outputs": [
    {
     "data": {
      "text/html": [
       "<div>\n",
       "<style scoped>\n",
       "    .dataframe tbody tr th:only-of-type {\n",
       "        vertical-align: middle;\n",
       "    }\n",
       "\n",
       "    .dataframe tbody tr th {\n",
       "        vertical-align: top;\n",
       "    }\n",
       "\n",
       "    .dataframe thead th {\n",
       "        text-align: right;\n",
       "    }\n",
       "</style>\n",
       "<table border=\"1\" class=\"dataframe\">\n",
       "  <thead>\n",
       "    <tr style=\"text-align: right;\">\n",
       "      <th></th>\n",
       "      <th>CaptureID</th>\n",
       "      <th>FingerType</th>\n",
       "      <th>SubjectID</th>\n",
       "      <th>FilePath</th>\n",
       "      <th>Attempt</th>\n",
       "      <th>Finger</th>\n",
       "      <th>ScannerID</th>\n",
       "      <th>CaptureID.1</th>\n",
       "      <th>live_spoof</th>\n",
       "      <th>sensor_model</th>\n",
       "      <th>...</th>\n",
       "      <th>set_type_fold_1</th>\n",
       "      <th>set_type_fold_2</th>\n",
       "      <th>set_type_fold_3</th>\n",
       "      <th>set_type_fold_4</th>\n",
       "      <th>set_type_fold_5</th>\n",
       "      <th>set_type_fold_6</th>\n",
       "      <th>set_type_fold_7</th>\n",
       "      <th>set_type_fold_8</th>\n",
       "      <th>set_type_fold_9</th>\n",
       "      <th>Collection</th>\n",
       "    </tr>\n",
       "  </thead>\n",
       "  <tbody>\n",
       "    <tr>\n",
       "      <th>95275</th>\n",
       "      <td>Pre_51351</td>\n",
       "      <td>Live</td>\n",
       "      <td>121651651511</td>\n",
       "      <td>/home/citer/Desktop/GANS/Generated_images_512_...</td>\n",
       "      <td>1</td>\n",
       "      <td>1</td>\n",
       "      <td>NaN</td>\n",
       "      <td>Pre_51351</td>\n",
       "      <td>0</td>\n",
       "      <td>crossmatch</td>\n",
       "      <td>...</td>\n",
       "      <td>tr</td>\n",
       "      <td>tr</td>\n",
       "      <td>tr</td>\n",
       "      <td>te</td>\n",
       "      <td>tr</td>\n",
       "      <td>tr</td>\n",
       "      <td>tr</td>\n",
       "      <td>v</td>\n",
       "      <td>tr</td>\n",
       "      <td>Pre</td>\n",
       "    </tr>\n",
       "    <tr>\n",
       "      <th>95276</th>\n",
       "      <td>Pre_51352</td>\n",
       "      <td>Live</td>\n",
       "      <td>121651651511</td>\n",
       "      <td>/home/citer/Desktop/GANS/Generated_images_512_...</td>\n",
       "      <td>1</td>\n",
       "      <td>2</td>\n",
       "      <td>NaN</td>\n",
       "      <td>Pre_51352</td>\n",
       "      <td>0</td>\n",
       "      <td>crossmatch</td>\n",
       "      <td>...</td>\n",
       "      <td>tr</td>\n",
       "      <td>tr</td>\n",
       "      <td>tr</td>\n",
       "      <td>te</td>\n",
       "      <td>tr</td>\n",
       "      <td>tr</td>\n",
       "      <td>tr</td>\n",
       "      <td>v</td>\n",
       "      <td>tr</td>\n",
       "      <td>Pre</td>\n",
       "    </tr>\n",
       "    <tr>\n",
       "      <th>95277</th>\n",
       "      <td>Pre_51353</td>\n",
       "      <td>Live</td>\n",
       "      <td>121651651511</td>\n",
       "      <td>/home/citer/Desktop/GANS/Generated_images_512_...</td>\n",
       "      <td>1</td>\n",
       "      <td>3</td>\n",
       "      <td>NaN</td>\n",
       "      <td>Pre_51353</td>\n",
       "      <td>0</td>\n",
       "      <td>crossmatch</td>\n",
       "      <td>...</td>\n",
       "      <td>tr</td>\n",
       "      <td>tr</td>\n",
       "      <td>tr</td>\n",
       "      <td>te</td>\n",
       "      <td>tr</td>\n",
       "      <td>tr</td>\n",
       "      <td>tr</td>\n",
       "      <td>v</td>\n",
       "      <td>tr</td>\n",
       "      <td>Pre</td>\n",
       "    </tr>\n",
       "    <tr>\n",
       "      <th>95278</th>\n",
       "      <td>Pre_51354</td>\n",
       "      <td>Live</td>\n",
       "      <td>121651651511</td>\n",
       "      <td>/home/citer/Desktop/GANS/Generated_images_512_...</td>\n",
       "      <td>1</td>\n",
       "      <td>4</td>\n",
       "      <td>NaN</td>\n",
       "      <td>Pre_51354</td>\n",
       "      <td>0</td>\n",
       "      <td>crossmatch</td>\n",
       "      <td>...</td>\n",
       "      <td>tr</td>\n",
       "      <td>tr</td>\n",
       "      <td>tr</td>\n",
       "      <td>te</td>\n",
       "      <td>tr</td>\n",
       "      <td>tr</td>\n",
       "      <td>tr</td>\n",
       "      <td>v</td>\n",
       "      <td>tr</td>\n",
       "      <td>Pre</td>\n",
       "    </tr>\n",
       "    <tr>\n",
       "      <th>95279</th>\n",
       "      <td>Pre_51355</td>\n",
       "      <td>Live</td>\n",
       "      <td>121651651511</td>\n",
       "      <td>/home/citer/Desktop/GANS/Generated_images_512_...</td>\n",
       "      <td>1</td>\n",
       "      <td>5</td>\n",
       "      <td>NaN</td>\n",
       "      <td>Pre_51355</td>\n",
       "      <td>0</td>\n",
       "      <td>crossmatch</td>\n",
       "      <td>...</td>\n",
       "      <td>tr</td>\n",
       "      <td>tr</td>\n",
       "      <td>tr</td>\n",
       "      <td>te</td>\n",
       "      <td>tr</td>\n",
       "      <td>tr</td>\n",
       "      <td>tr</td>\n",
       "      <td>v</td>\n",
       "      <td>tr</td>\n",
       "      <td>Pre</td>\n",
       "    </tr>\n",
       "  </tbody>\n",
       "</table>\n",
       "<p>5 rows × 21 columns</p>\n",
       "</div>"
      ],
      "text/plain": [
       "       CaptureID FingerType     SubjectID  \\\n",
       "95275  Pre_51351       Live  121651651511   \n",
       "95276  Pre_51352       Live  121651651511   \n",
       "95277  Pre_51353       Live  121651651511   \n",
       "95278  Pre_51354       Live  121651651511   \n",
       "95279  Pre_51355       Live  121651651511   \n",
       "\n",
       "                                                FilePath  Attempt  Finger  \\\n",
       "95275  /home/citer/Desktop/GANS/Generated_images_512_...        1       1   \n",
       "95276  /home/citer/Desktop/GANS/Generated_images_512_...        1       2   \n",
       "95277  /home/citer/Desktop/GANS/Generated_images_512_...        1       3   \n",
       "95278  /home/citer/Desktop/GANS/Generated_images_512_...        1       4   \n",
       "95279  /home/citer/Desktop/GANS/Generated_images_512_...        1       5   \n",
       "\n",
       "      ScannerID CaptureID.1  live_spoof sensor_model  ... set_type_fold_1  \\\n",
       "95275       NaN   Pre_51351           0   crossmatch  ...              tr   \n",
       "95276       NaN   Pre_51352           0   crossmatch  ...              tr   \n",
       "95277       NaN   Pre_51353           0   crossmatch  ...              tr   \n",
       "95278       NaN   Pre_51354           0   crossmatch  ...              tr   \n",
       "95279       NaN   Pre_51355           0   crossmatch  ...              tr   \n",
       "\n",
       "      set_type_fold_2 set_type_fold_3 set_type_fold_4 set_type_fold_5  \\\n",
       "95275              tr              tr              te              tr   \n",
       "95276              tr              tr              te              tr   \n",
       "95277              tr              tr              te              tr   \n",
       "95278              tr              tr              te              tr   \n",
       "95279              tr              tr              te              tr   \n",
       "\n",
       "      set_type_fold_6 set_type_fold_7 set_type_fold_8 set_type_fold_9  \\\n",
       "95275              tr              tr               v              tr   \n",
       "95276              tr              tr               v              tr   \n",
       "95277              tr              tr               v              tr   \n",
       "95278              tr              tr               v              tr   \n",
       "95279              tr              tr               v              tr   \n",
       "\n",
       "      Collection  \n",
       "95275        Pre  \n",
       "95276        Pre  \n",
       "95277        Pre  \n",
       "95278        Pre  \n",
       "95279        Pre  \n",
       "\n",
       "[5 rows x 21 columns]"
      ]
     },
     "execution_count": 21,
     "metadata": {},
     "output_type": "execute_result"
    }
   ],
   "source": [
    "Train_df.head()"
   ]
  },
  {
   "cell_type": "code",
   "execution_count": 22,
   "metadata": {},
   "outputs": [],
   "source": [
    "output_folder_JPEG = '/home/citer/Desktop/GANS/Live_512_JPEG/gray'\n",
    "#output_folder_BMP = '/home/citer/Desktop/GANS/Live_512_BMP/gray'\n",
    "if not os.path.exists(output_folder_JPEG):\n",
    "    os.makedirs(output_folder_JPEG)\n",
    "#if not os.path.exists(output_folder_BMP):\n",
    "#    os.makedirs(output_folder_BMP)\n",
    "    \n",
    "for i in range(len(Train_df)):\n",
    "    file = Train_df.iloc[i,3]\n",
    "    name = file.split('/')[-1]\n",
    "    arr = cv2.imread(file)\n",
    "    gray = cv2.cvtColor(arr, cv2.COLOR_BGR2GRAY)\n",
    "    cv2.imwrite(os.path.join(output_folder_JPEG,name[:-3]+'JPEG'), gray, [int(cv2.IMWRITE_JPEG_QUALITY), 100])\n",
    "    #cv2.imwrite(os.path.join(output_folder_BMP,name[:-3]+'BMP'), gray)\n",
    "    os.remove(file)"
   ]
  },
  {
   "cell_type": "code",
   "execution_count": 59,
   "metadata": {},
   "outputs": [],
   "source": [
    "'''I need to change their size to 512by 512 before minutea extraction'''\n",
    "\n",
    "input_folder_JPEG = '/home/citer/Desktop/GANS/Live_512_JPEG/gray_400'\n",
    "output_folder_JPEG = '/home/citer/Desktop/GANS/Live_512_JPEG/gray'\n",
    "\n",
    "files = os.listdir(input_folder_JPEG)\n",
    "for file in files:\n",
    "    arr = cv2.imread(os.path.join(input_folder_JPEG,file))\n",
    "    gray = cv2.cvtColor(arr, cv2.COLOR_BGR2GRAY)\n",
    "    image_pad = np.pad(gray, (56, 56), 'constant', constant_values=(255))\n",
    "    cv2.imwrite(os.path.join(output_folder_JPEG,file), image_pad, [int(cv2.IMWRITE_JPEG_QUALITY), 100])"
   ]
  },
  {
   "cell_type": "code",
   "execution_count": 62,
   "metadata": {},
   "outputs": [
    {
     "data": {
      "text/plain": [
       "72743"
      ]
     },
     "execution_count": 62,
     "metadata": {},
     "output_type": "execute_result"
    }
   ],
   "source": [
    "len(os.listdir(output_folder_JPEG))"
   ]
  },
  {
   "cell_type": "code",
   "execution_count": null,
   "metadata": {},
   "outputs": [],
   "source": [
    "'afterward go to docker and run the Minutea extraction python code'"
   ]
  }
 ],
 "metadata": {
  "kernelspec": {
   "display_name": "Python 3",
   "language": "python",
   "name": "python3"
  },
  "language_info": {
   "codemirror_mode": {
    "name": "ipython",
    "version": 3
   },
   "file_extension": ".py",
   "mimetype": "text/x-python",
   "name": "python",
   "nbconvert_exporter": "python",
   "pygments_lexer": "ipython3",
   "version": "3.7.3"
  }
 },
 "nbformat": 4,
 "nbformat_minor": 4
}
