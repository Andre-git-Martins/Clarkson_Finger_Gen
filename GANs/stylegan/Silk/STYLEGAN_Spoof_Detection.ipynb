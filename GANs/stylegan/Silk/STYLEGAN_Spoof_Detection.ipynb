{
 "cells": [
  {
   "cell_type": "code",
   "execution_count": 2,
   "metadata": {},
   "outputs": [],
   "source": [
    "import os\n",
    "import sys\n",
    "new_path = '/home/cc/stylegan_K1/'\n",
    "sys.path.append(new_path)\n",
    "import tensorflow\n",
    "import pickle\n",
    "import numpy as np\n",
    "import PIL.Image\n",
    "import dnnlib\n",
    "import dnnlib.tflib as tflib\n",
    "import config\n",
    "import io\n",
    "import matplotlib.pyplot as plt\n",
    "import pandas as pd\n",
    "from tensorflow.keras.preprocessing.image import ImageDataGenerator\n",
    "from sklearn.metrics import roc_curve"
   ]
  },
  {
   "cell_type": "code",
   "execution_count": 3,
   "metadata": {},
   "outputs": [
    {
     "name": "stdout",
     "output_type": "stream",
     "text": [
      "WARNING:tensorflow:From /home/cc/stylegan_K1/dnnlib/tflib/tfutil.py:97: The name tf.get_default_session is deprecated. Please use tf.compat.v1.get_default_session instead.\n",
      "\n",
      "WARNING:tensorflow:From /home/cc/stylegan_K1/dnnlib/tflib/tfutil.py:109: The name tf.set_random_seed is deprecated. Please use tf.compat.v1.set_random_seed instead.\n",
      "\n",
      "WARNING:tensorflow:From <string>:373: add_dispatch_support.<locals>.wrapper (from tensorflow.python.ops.array_ops) is deprecated and will be removed in a future version.\n",
      "Instructions for updating:\n",
      "Use tf.where in 2.0, which has the same broadcast rule as np.where\n"
     ]
    }
   ],
   "source": [
    "'''Loading Pre trained network'''\n",
    "tflib.init_tf()\n",
    "#f = open('Data/Zips/karras2019stylegan-ffhq-1024x1024.pkl','rb')\n",
    "f = open('/home/cc/network-snapshot-008040.pkl', 'rb')\n",
    "_G, _D, Gs = pickle.load(f)"
   ]
  },
  {
   "cell_type": "code",
   "execution_count": null,
   "metadata": {},
   "outputs": [],
   "source": [
    "#Gs.print_layers()"
   ]
  },
  {
   "cell_type": "code",
   "execution_count": 29,
   "metadata": {},
   "outputs": [
    {
     "name": "stderr",
     "output_type": "stream",
     "text": [
      "/home/cc/anaconda3/envs/TF1/lib/python3.6/site-packages/ipykernel_launcher.py:14: SettingWithCopyWarning: \n",
      "A value is trying to be set on a copy of a slice from a DataFrame.\n",
      "Try using .loc[row_indexer,col_indexer] = value instead\n",
      "\n",
      "See the caveats in the documentation: https://pandas.pydata.org/pandas-docs/stable/user_guide/indexing.html#returning-a-view-versus-a-copy\n",
      "  \n",
      "/home/cc/anaconda3/envs/TF1/lib/python3.6/site-packages/pandas/core/generic.py:5303: SettingWithCopyWarning: \n",
      "A value is trying to be set on a copy of a slice from a DataFrame.\n",
      "Try using .loc[row_indexer,col_indexer] = value instead\n",
      "\n",
      "See the caveats in the documentation: https://pandas.pydata.org/pandas-docs/stable/user_guide/indexing.html#returning-a-view-versus-a-copy\n",
      "  self[name] = value\n"
     ]
    },
    {
     "name": "stdout",
     "output_type": "stream",
     "text": [
      "Found 49001 validated image filenames.\n"
     ]
    }
   ],
   "source": [
    "img_rows = 512\n",
    "img_cols = 512\n",
    "channels = 3 # I am using channel last models\n",
    "img_shape = (channels, img_rows, img_cols)\n",
    "latent_dim = 512\n",
    "batch_size=128\n",
    "Ngpus = 1\n",
    "inputTrain = '/home/cc/Data/Images'\n",
    "Imsize=(img_cols,img_cols)\n",
    "\n",
    "data_pd = pd.read_pickle('/home/cc/Data/Zips/cm_index_df_fixed.p')\n",
    "data_pd['FilePath']= data_pd.FilePath.apply(lambda x: os.path.join('/home/cc/Data/Images',x))\n",
    "data_live = data_pd[data_pd.live_spoof == 1] # only live samples\n",
    "data_live['Collection'] = data_live.CaptureID.apply(lambda x: x[0:3])\n",
    "resize_df = data_live[data_live.Collection =='Pre']\n",
    "resize_df.shape\n",
    "resize_df.live_spoof=resize_df.live_spoof.astype(str)\n",
    "\n",
    "\n",
    "datagen=ImageDataGenerator(data_format =\"channels_first\") # we rescale to -1 to 1 for our tanhs \n",
    "image_generator= datagen.flow_from_dataframe(\n",
    "            directory= inputTrain,\n",
    "            dataframe = resize_df,\n",
    "            x_col = 'FilePath',\n",
    "            y_col ='live_spoof',\n",
    "            color_mode='rgb',\n",
    "            target_size=(img_rows,img_cols),\n",
    "            batch_size=batch_size,\n",
    "            class_mode=None,\n",
    "            shuffle=False,\n",
    "            )"
   ]
  },
  {
   "cell_type": "code",
   "execution_count": 30,
   "metadata": {},
   "outputs": [
    {
     "data": {
      "text/plain": [
       "0"
      ]
     },
     "execution_count": 30,
     "metadata": {},
     "output_type": "execute_result"
    }
   ],
   "source": [
    "image_generator.total_batches_seen"
   ]
  },
  {
   "cell_type": "code",
   "execution_count": 31,
   "metadata": {},
   "outputs": [
    {
     "data": {
      "text/plain": [
       "0"
      ]
     },
     "execution_count": 31,
     "metadata": {},
     "output_type": "execute_result"
    }
   ],
   "source": [
    "image_generator.batch_index"
   ]
  },
  {
   "cell_type": "code",
   "execution_count": 32,
   "metadata": {},
   "outputs": [
    {
     "data": {
      "text/plain": [
       "49001"
      ]
     },
     "execution_count": 32,
     "metadata": {},
     "output_type": "execute_result"
    }
   ],
   "source": [
    "len(image_generator.filenames)"
   ]
  },
  {
   "cell_type": "code",
   "execution_count": null,
   "metadata": {},
   "outputs": [],
   "source": [
    "pred = np.zeros((len(image_generator.filenames),1), dtype=np.float32)\n",
    "for i in range(len(image_generator)-1):\n",
    "    #print(i)\n",
    "    images = image_generator.next()\n",
    "    pred[(i)*batch_size:(i+1)*batch_size] = _D.run(images, None)\n",
    "    #pred.append(_D.run(images, None))\n",
    "    #sess = _D.get_output_for(images, None, return_as_list=True)"
   ]
  },
  {
   "cell_type": "code",
   "execution_count": 41,
   "metadata": {},
   "outputs": [
    {
     "data": {
      "text/plain": [
       "[<matplotlib.lines.Line2D at 0x7fdd13bdfe80>]"
      ]
     },
     "execution_count": 41,
     "metadata": {},
     "output_type": "execute_result"
    },
    {
     "data": {
      "image/png": "[encoded data removed]",
      "text/plain": [
       "<Figure size 432x288 with 1 Axes>"
      ]
     },
     "metadata": {
      "needs_background": "light"
     },
     "output_type": "display_data"
    }
   ],
   "source": [
    "plt.plot(pred)"
   ]
  },
  {
   "cell_type": "code",
   "execution_count": 59,
   "metadata": {},
   "outputs": [],
   "source": [
    "last = image_generator.next()"
   ]
  },
  {
   "cell_type": "code",
   "execution_count": 61,
   "metadata": {},
   "outputs": [
    {
     "data": {
      "text/plain": [
       "(105, 3, 512, 512)"
      ]
     },
     "execution_count": 61,
     "metadata": {},
     "output_type": "execute_result"
    }
   ],
   "source": [
    "last.shape"
   ]
  },
  {
   "cell_type": "code",
   "execution_count": 65,
   "metadata": {},
   "outputs": [],
   "source": [
    "fix = np.zeros((128,3,512,512), dtype=np.float32)\n",
    "fix[0:105,:,:,:] = last"
   ]
  },
  {
   "cell_type": "code",
   "execution_count": 66,
   "metadata": {},
   "outputs": [],
   "source": [
    "last_pr = _D.run(fix, None)"
   ]
  },
  {
   "cell_type": "code",
   "execution_count": 78,
   "metadata": {},
   "outputs": [],
   "source": [
    "pred[(i+1)*128:] =last_pr[0:105]"
   ]
  },
  {
   "cell_type": "code",
   "execution_count": 80,
   "metadata": {},
   "outputs": [
    {
     "name": "stderr",
     "output_type": "stream",
     "text": [
      "/home/cc/anaconda3/envs/TF1/lib/python3.6/site-packages/ipykernel_launcher.py:1: SettingWithCopyWarning: \n",
      "A value is trying to be set on a copy of a slice from a DataFrame.\n",
      "Try using .loc[row_indexer,col_indexer] = value instead\n",
      "\n",
      "See the caveats in the documentation: https://pandas.pydata.org/pandas-docs/stable/user_guide/indexing.html#returning-a-view-versus-a-copy\n",
      "  \"\"\"Entry point for launching an IPython kernel.\n"
     ]
    }
   ],
   "source": [
    "resize_df['predict'] = pred"
   ]
  },
  {
   "cell_type": "code",
   "execution_count": 82,
   "metadata": {},
   "outputs": [],
   "source": [
    "resize_df.to_pickle('/home/cc/Data/Stylegan_Spoof.p')"
   ]
  },
  {
   "cell_type": "code",
   "execution_count": 83,
   "metadata": {},
   "outputs": [
    {
     "data": {
      "text/plain": [
       "(array([1.4770e+03, 8.3340e+03, 1.1352e+04, 1.0446e+04, 8.1290e+03,\n",
       "        5.4560e+03, 2.6840e+03, 9.5700e+02, 1.5800e+02, 8.0000e+00]),\n",
       " array([-350.72894 , -297.62448 , -244.52005 , -191.41559 , -138.31114 ,\n",
       "         -85.206696,  -32.102245,   21.002203,   74.10665 ,  127.211105,\n",
       "         180.31555 ], dtype=float32),\n",
       " <a list of 10 Patch objects>)"
      ]
     },
     "execution_count": 83,
     "metadata": {},
     "output_type": "execute_result"
    },
    {
     "data": {
      "image/png": "[encoded data removed]",
      "text/plain": [
       "<Figure size 432x288 with 1 Axes>"
      ]
     },
     "metadata": {
      "needs_background": "light"
     },
     "output_type": "display_data"
    }
   ],
   "source": [
    "plt.hist(resize_df.predict)"
   ]
  },
  {
   "cell_type": "code",
   "execution_count": 108,
   "metadata": {},
   "outputs": [
    {
     "name": "stderr",
     "output_type": "stream",
     "text": [
      "/home/cc/anaconda3/envs/TF1/lib/python3.6/site-packages/ipykernel_launcher.py:4: SettingWithCopyWarning: \n",
      "A value is trying to be set on a copy of a slice from a DataFrame.\n",
      "Try using .loc[row_indexer,col_indexer] = value instead\n",
      "\n",
      "See the caveats in the documentation: https://pandas.pydata.org/pandas-docs/stable/user_guide/indexing.html#returning-a-view-versus-a-copy\n",
      "  after removing the cwd from sys.path.\n",
      "/home/cc/anaconda3/envs/TF1/lib/python3.6/site-packages/pandas/core/generic.py:5303: SettingWithCopyWarning: \n",
      "A value is trying to be set on a copy of a slice from a DataFrame.\n",
      "Try using .loc[row_indexer,col_indexer] = value instead\n",
      "\n",
      "See the caveats in the documentation: https://pandas.pydata.org/pandas-docs/stable/user_guide/indexing.html#returning-a-view-versus-a-copy\n",
      "  self[name] = value\n"
     ]
    }
   ],
   "source": [
    "data_pd = pd.read_pickle('/home/cc/Data/Zips/cm_index_df_fixed.p')\n",
    "data_pd['FilePath']= data_pd.FilePath.apply(lambda x: os.path.join('/home/cc/Data/Images',x))\n",
    "data_live = data_pd[data_pd.live_spoof == 0] # only live samples\n",
    "data_live['Collection'] = data_live.CaptureID.apply(lambda x: x[0:3])\n",
    "live_df = data_live[data_live.Collection =='Pre']\n",
    "live_df.shape\n",
    "live_df.live_spoof=resize_df.live_spoof.astype(str)\n",
    "unique_subjects = sorted(live_df.SubjectID.unique())"
   ]
  },
  {
   "cell_type": "code",
   "execution_count": 112,
   "metadata": {},
   "outputs": [],
   "source": [
    "'''Selecting 250 subjects, we used the 0-250 for training so there is no overlap'''\n",
    "live_subject = unique_subjects[250:500]"
   ]
  },
  {
   "cell_type": "code",
   "execution_count": 113,
   "metadata": {},
   "outputs": [],
   "source": [
    "live_Test_df = pd.DataFrame()\n",
    "for subject in live_subject:\n",
    "    sub_df = live_df[live_df.SubjectID== subject]\n",
    "    live_Test_df = pd.concat([live_Test_df,sub_df])"
   ]
  },
  {
   "cell_type": "code",
   "execution_count": 114,
   "metadata": {},
   "outputs": [
    {
     "data": {
      "text/plain": [
       "(63530, 21)"
      ]
     },
     "execution_count": 114,
     "metadata": {},
     "output_type": "execute_result"
    }
   ],
   "source": [
    "live_Test_df.shape"
   ]
  },
  {
   "cell_type": "code",
   "execution_count": 115,
   "metadata": {},
   "outputs": [
    {
     "name": "stdout",
     "output_type": "stream",
     "text": [
      "Found 63530 validated image filenames.\n"
     ]
    }
   ],
   "source": [
    "img_rows = 512\n",
    "img_cols = 512\n",
    "channels = 3 # I am using channel last models\n",
    "img_shape = (channels, img_rows, img_cols)\n",
    "latent_dim = 512\n",
    "batch_size=128\n",
    "Ngpus = 1\n",
    "inputTrain = '/home/cc/Data/Images'\n",
    "Imsize=(img_cols,img_cols)\n",
    "\n",
    "datagen=ImageDataGenerator(data_format =\"channels_first\") # we rescale to -1 to 1 for our tanhs \n",
    "image_generator= datagen.flow_from_dataframe(\n",
    "            directory= inputTrain,\n",
    "            dataframe = live_Test_df,\n",
    "            x_col = 'FilePath',\n",
    "            y_col ='live_spoof',\n",
    "            color_mode='rgb',\n",
    "            target_size=(img_rows,img_cols),\n",
    "            batch_size=batch_size,\n",
    "            class_mode=None,\n",
    "            shuffle=False,\n",
    "            )"
   ]
  },
  {
   "cell_type": "code",
   "execution_count": 116,
   "metadata": {},
   "outputs": [
    {
     "data": {
      "text/html": [
       "<div>\n",
       "<style scoped>\n",
       "    .dataframe tbody tr th:only-of-type {\n",
       "        vertical-align: middle;\n",
       "    }\n",
       "\n",
       "    .dataframe tbody tr th {\n",
       "        vertical-align: top;\n",
       "    }\n",
       "\n",
       "    .dataframe thead th {\n",
       "        text-align: right;\n",
       "    }\n",
       "</style>\n",
       "<table border=\"1\" class=\"dataframe\">\n",
       "  <thead>\n",
       "    <tr style=\"text-align: right;\">\n",
       "      <th></th>\n",
       "      <th>CaptureID</th>\n",
       "      <th>FingerType</th>\n",
       "      <th>SubjectID</th>\n",
       "      <th>FilePath</th>\n",
       "      <th>Attempt</th>\n",
       "      <th>Finger</th>\n",
       "      <th>ScannerID</th>\n",
       "      <th>CaptureID.1</th>\n",
       "      <th>live_spoof</th>\n",
       "      <th>sensor_model</th>\n",
       "      <th>...</th>\n",
       "      <th>set_type_fold_1</th>\n",
       "      <th>set_type_fold_2</th>\n",
       "      <th>set_type_fold_3</th>\n",
       "      <th>set_type_fold_4</th>\n",
       "      <th>set_type_fold_5</th>\n",
       "      <th>set_type_fold_6</th>\n",
       "      <th>set_type_fold_7</th>\n",
       "      <th>set_type_fold_8</th>\n",
       "      <th>set_type_fold_9</th>\n",
       "      <th>Collection</th>\n",
       "    </tr>\n",
       "  </thead>\n",
       "  <tbody>\n",
       "    <tr>\n",
       "      <th>235490</th>\n",
       "      <td>Pre_191567</td>\n",
       "      <td>Live</td>\n",
       "      <td>201804106305</td>\n",
       "      <td>/home/cc/Data/Images/precise_crossmatch/Crossm...</td>\n",
       "      <td>1</td>\n",
       "      <td>1</td>\n",
       "      <td>NaN</td>\n",
       "      <td>Pre_191567</td>\n",
       "      <td>NaN</td>\n",
       "      <td>crossmatch</td>\n",
       "      <td>...</td>\n",
       "      <td>tr</td>\n",
       "      <td>tr</td>\n",
       "      <td>tr</td>\n",
       "      <td>te</td>\n",
       "      <td>tr</td>\n",
       "      <td>tr</td>\n",
       "      <td>tr</td>\n",
       "      <td>tr</td>\n",
       "      <td>tr</td>\n",
       "      <td>Pre</td>\n",
       "    </tr>\n",
       "    <tr>\n",
       "      <th>235491</th>\n",
       "      <td>Pre_191568</td>\n",
       "      <td>Live</td>\n",
       "      <td>201804106305</td>\n",
       "      <td>/home/cc/Data/Images/precise_crossmatch/Crossm...</td>\n",
       "      <td>1</td>\n",
       "      <td>2</td>\n",
       "      <td>NaN</td>\n",
       "      <td>Pre_191568</td>\n",
       "      <td>NaN</td>\n",
       "      <td>crossmatch</td>\n",
       "      <td>...</td>\n",
       "      <td>tr</td>\n",
       "      <td>tr</td>\n",
       "      <td>tr</td>\n",
       "      <td>te</td>\n",
       "      <td>tr</td>\n",
       "      <td>tr</td>\n",
       "      <td>tr</td>\n",
       "      <td>tr</td>\n",
       "      <td>tr</td>\n",
       "      <td>Pre</td>\n",
       "    </tr>\n",
       "    <tr>\n",
       "      <th>235492</th>\n",
       "      <td>Pre_191569</td>\n",
       "      <td>Live</td>\n",
       "      <td>201804106305</td>\n",
       "      <td>/home/cc/Data/Images/precise_crossmatch/Crossm...</td>\n",
       "      <td>1</td>\n",
       "      <td>3</td>\n",
       "      <td>NaN</td>\n",
       "      <td>Pre_191569</td>\n",
       "      <td>NaN</td>\n",
       "      <td>crossmatch</td>\n",
       "      <td>...</td>\n",
       "      <td>tr</td>\n",
       "      <td>tr</td>\n",
       "      <td>tr</td>\n",
       "      <td>te</td>\n",
       "      <td>tr</td>\n",
       "      <td>tr</td>\n",
       "      <td>tr</td>\n",
       "      <td>tr</td>\n",
       "      <td>tr</td>\n",
       "      <td>Pre</td>\n",
       "    </tr>\n",
       "    <tr>\n",
       "      <th>235493</th>\n",
       "      <td>Pre_191570</td>\n",
       "      <td>Live</td>\n",
       "      <td>201804106305</td>\n",
       "      <td>/home/cc/Data/Images/precise_crossmatch/Crossm...</td>\n",
       "      <td>1</td>\n",
       "      <td>4</td>\n",
       "      <td>NaN</td>\n",
       "      <td>Pre_191570</td>\n",
       "      <td>NaN</td>\n",
       "      <td>crossmatch</td>\n",
       "      <td>...</td>\n",
       "      <td>tr</td>\n",
       "      <td>tr</td>\n",
       "      <td>tr</td>\n",
       "      <td>te</td>\n",
       "      <td>tr</td>\n",
       "      <td>tr</td>\n",
       "      <td>tr</td>\n",
       "      <td>tr</td>\n",
       "      <td>tr</td>\n",
       "      <td>Pre</td>\n",
       "    </tr>\n",
       "    <tr>\n",
       "      <th>235494</th>\n",
       "      <td>Pre_191571</td>\n",
       "      <td>Live</td>\n",
       "      <td>201804106305</td>\n",
       "      <td>/home/cc/Data/Images/precise_crossmatch/Crossm...</td>\n",
       "      <td>1</td>\n",
       "      <td>5</td>\n",
       "      <td>NaN</td>\n",
       "      <td>Pre_191571</td>\n",
       "      <td>NaN</td>\n",
       "      <td>crossmatch</td>\n",
       "      <td>...</td>\n",
       "      <td>tr</td>\n",
       "      <td>tr</td>\n",
       "      <td>tr</td>\n",
       "      <td>te</td>\n",
       "      <td>tr</td>\n",
       "      <td>tr</td>\n",
       "      <td>tr</td>\n",
       "      <td>tr</td>\n",
       "      <td>tr</td>\n",
       "      <td>Pre</td>\n",
       "    </tr>\n",
       "  </tbody>\n",
       "</table>\n",
       "<p>5 rows × 21 columns</p>\n",
       "</div>"
      ],
      "text/plain": [
       "         CaptureID FingerType     SubjectID  \\\n",
       "235490  Pre_191567       Live  201804106305   \n",
       "235491  Pre_191568       Live  201804106305   \n",
       "235492  Pre_191569       Live  201804106305   \n",
       "235493  Pre_191570       Live  201804106305   \n",
       "235494  Pre_191571       Live  201804106305   \n",
       "\n",
       "                                                 FilePath  Attempt  Finger  \\\n",
       "235490  /home/cc/Data/Images/precise_crossmatch/Crossm...        1       1   \n",
       "235491  /home/cc/Data/Images/precise_crossmatch/Crossm...        1       2   \n",
       "235492  /home/cc/Data/Images/precise_crossmatch/Crossm...        1       3   \n",
       "235493  /home/cc/Data/Images/precise_crossmatch/Crossm...        1       4   \n",
       "235494  /home/cc/Data/Images/precise_crossmatch/Crossm...        1       5   \n",
       "\n",
       "       ScannerID CaptureID.1 live_spoof sensor_model  ... set_type_fold_1  \\\n",
       "235490       NaN  Pre_191567        NaN   crossmatch  ...              tr   \n",
       "235491       NaN  Pre_191568        NaN   crossmatch  ...              tr   \n",
       "235492       NaN  Pre_191569        NaN   crossmatch  ...              tr   \n",
       "235493       NaN  Pre_191570        NaN   crossmatch  ...              tr   \n",
       "235494       NaN  Pre_191571        NaN   crossmatch  ...              tr   \n",
       "\n",
       "       set_type_fold_2 set_type_fold_3 set_type_fold_4 set_type_fold_5  \\\n",
       "235490              tr              tr              te              tr   \n",
       "235491              tr              tr              te              tr   \n",
       "235492              tr              tr              te              tr   \n",
       "235493              tr              tr              te              tr   \n",
       "235494              tr              tr              te              tr   \n",
       "\n",
       "       set_type_fold_6 set_type_fold_7 set_type_fold_8 set_type_fold_9  \\\n",
       "235490              tr              tr              tr              tr   \n",
       "235491              tr              tr              tr              tr   \n",
       "235492              tr              tr              tr              tr   \n",
       "235493              tr              tr              tr              tr   \n",
       "235494              tr              tr              tr              tr   \n",
       "\n",
       "       Collection  \n",
       "235490        Pre  \n",
       "235491        Pre  \n",
       "235492        Pre  \n",
       "235493        Pre  \n",
       "235494        Pre  \n",
       "\n",
       "[5 rows x 21 columns]"
      ]
     },
     "execution_count": 116,
     "metadata": {},
     "output_type": "execute_result"
    }
   ],
   "source": [
    "live_Test_df.head()"
   ]
  },
  {
   "cell_type": "code",
   "execution_count": 117,
   "metadata": {},
   "outputs": [],
   "source": [
    "pred_live = np.zeros((len(image_generator.filenames),1), dtype=np.float32)\n",
    "for i in range(len(image_generator)-1):\n",
    "    #print(i)\n",
    "    images = image_generator.next()\n",
    "    pred_live[(i)*batch_size:(i+1)*batch_size] = _D.run(images, None)\n",
    "    #pred.append(_D.run(images, None))\n",
    "    #sess = _D.get_output_for(images, None, return_as_list=True)"
   ]
  },
  {
   "cell_type": "code",
   "execution_count": 118,
   "metadata": {},
   "outputs": [],
   "source": [
    "live_last_images = image_generator.next()"
   ]
  },
  {
   "cell_type": "code",
   "execution_count": 119,
   "metadata": {},
   "outputs": [],
   "source": [
    "fix = np.zeros((128,3,512,512), dtype=np.float32)\n",
    "fix[0:42,:,:,:] = live_last_images"
   ]
  },
  {
   "cell_type": "code",
   "execution_count": 120,
   "metadata": {},
   "outputs": [],
   "source": [
    "live_last_pr = _D.run(fix, None)"
   ]
  },
  {
   "cell_type": "code",
   "execution_count": 121,
   "metadata": {},
   "outputs": [],
   "source": [
    "pred_live[(i+1)*128:] = live_last_pr[0:42]"
   ]
  },
  {
   "cell_type": "code",
   "execution_count": 122,
   "metadata": {},
   "outputs": [
    {
     "data": {
      "text/plain": [
       "(63530, 1)"
      ]
     },
     "execution_count": 122,
     "metadata": {},
     "output_type": "execute_result"
    }
   ],
   "source": [
    "pred_live.shape"
   ]
  },
  {
   "cell_type": "code",
   "execution_count": 123,
   "metadata": {},
   "outputs": [
    {
     "data": {
      "text/plain": [
       "(49001, 1)"
      ]
     },
     "execution_count": 123,
     "metadata": {},
     "output_type": "execute_result"
    }
   ],
   "source": [
    "pred.shape"
   ]
  },
  {
   "cell_type": "code",
   "execution_count": 124,
   "metadata": {},
   "outputs": [
    {
     "data": {
      "text/plain": [
       "(array([ 8228., 21051., 16960.,  9731.,  4441.,  1812.,   739.,   338.,\n",
       "          176.,    54.]),\n",
       " array([-372.69812 , -323.87988 , -275.06165 , -226.24342 , -177.4252  ,\n",
       "        -128.60696 ,  -79.788734,  -30.970507,   17.847723,   66.665955,\n",
       "         115.484184], dtype=float32),\n",
       " <a list of 10 Patch objects>)"
      ]
     },
     "execution_count": 124,
     "metadata": {},
     "output_type": "execute_result"
    },
    {
     "data": {
      "image/png": "[encoded data removed]",
      "text/plain": [
       "<Figure size 432x288 with 1 Axes>"
      ]
     },
     "metadata": {
      "needs_background": "light"
     },
     "output_type": "display_data"
    }
   ],
   "source": [
    "plt.hist(pred)\n",
    "plt.hist(pred_live)"
   ]
  },
  {
   "cell_type": "code",
   "execution_count": 127,
   "metadata": {},
   "outputs": [],
   "source": [
    "label_spoof = np.zeros(len(pred), dtype=np.int8)\n",
    "label_live = np.ones(len(pred_live), dtype=np.int8)\n",
    "labels = np.concatenate([label_spoof,label_live])"
   ]
  },
  {
   "cell_type": "code",
   "execution_count": 128,
   "metadata": {},
   "outputs": [],
   "source": [
    "predictions = np.concatenate([pred, pred_live])"
   ]
  },
  {
   "cell_type": "code",
   "execution_count": 147,
   "metadata": {},
   "outputs": [],
   "source": [
    "fpr, tpr, thresholds = roc_curve(labels,predictions, pos_label=0)"
   ]
  },
  {
   "cell_type": "code",
   "execution_count": 150,
   "metadata": {},
   "outputs": [
    {
     "name": "stderr",
     "output_type": "stream",
     "text": [
      "/home/cc/anaconda3/envs/TF1/lib/python3.6/site-packages/ipykernel_launcher.py:3: DeprecationWarning: scipy.interp is deprecated and will be removed in SciPy 2.0.0, use numpy.interp instead\n",
      "  This is separate from the ipykernel package so we can avoid doing imports until\n",
      "/home/cc/anaconda3/envs/TF1/lib/python3.6/site-packages/ipykernel_launcher.py:4: DeprecationWarning: scipy.interp is deprecated and will be removed in SciPy 2.0.0, use numpy.interp instead\n",
      "  after removing the cwd from sys.path.\n"
     ]
    },
    {
     "data": {
      "image/png": "[encoded data removed]",
      "text/plain": [
       "<Figure size 432x288 with 1 Axes>"
      ]
     },
     "metadata": {
      "needs_background": "light"
     },
     "output_type": "display_data"
    },
    {
     "name": "stdout",
     "output_type": "stream",
     "text": [
      "0.01320381216709863\n"
     ]
    }
   ],
   "source": [
    "from scipy import interp\n",
    "mean_fpr = np.linspace(0, 1, 1000)  # point we want for fpr\n",
    "tprs=interp(mean_fpr, fpr, tpr)\n",
    "thrs=interp(mean_fpr, fpr, thresholds)\n",
    "plt.plot(mean_fpr, tprs, lw=1, alpha=1)\n",
    "plt.xlim([0, 0.1])\n",
    "plt.ylim([-0.05, 1.05])\n",
    "plt.xlabel('False Positive Rate')\n",
    "plt.ylabel('True Positive Rate')\n",
    "plt.title('Receiver operating characteristic for the development dataset')\n",
    "plt.show()\n",
    "print(tprs[2])"
   ]
  }
 ],
 "metadata": {
  "kernelspec": {
   "display_name": "Python 3",
   "language": "python",
   "name": "python3"
  },
  "language_info": {
   "codemirror_mode": {
    "name": "ipython",
    "version": 3
   },
   "file_extension": ".py",
   "mimetype": "text/x-python",
   "name": "python",
   "nbconvert_exporter": "python",
   "pygments_lexer": "ipython3",
   "version": "3.6.8"
  }
 },
 "nbformat": 4,
 "nbformat_minor": 4
}
