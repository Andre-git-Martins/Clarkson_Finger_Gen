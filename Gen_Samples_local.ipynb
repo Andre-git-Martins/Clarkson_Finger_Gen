{
 "cells": [
  {
   "cell_type": "code",
   "execution_count": null,
   "metadata": {},
   "outputs": [],
   "source": [
    "import os\n",
    "import sys\n",
    "new_path = '/home/citer/Desktop/Clarkson_Finger_Gen/stylegan_K1/'\n",
    "sys.path.append(new_path)\n",
    "import pickle\n",
    "import numpy as np\n",
    "import PIL.Image\n",
    "import dnnlib\n",
    "import dnnlib.tflib as tflib\n",
    "import config\n",
    "import io\n",
    "import matplotlib.pyplot as plt"
   ]
  },
  {
   "cell_type": "code",
   "execution_count": null,
   "metadata": {},
   "outputs": [],
   "source": [
    "'''Loading Pre trained network'''\n",
    "tflib.init_tf()\n",
    "f = open('./network-snapshot-007440.pkl', 'rb')\n",
    "_G, _D, Gs = pickle.load(f)"
   ]
  },
  {
   "cell_type": "code",
   "execution_count": null,
   "metadata": {},
   "outputs": [],
   "source": [
    " #Gs.print_layers()"
   ]
  },
  {
   "cell_type": "code",
   "execution_count": null,
   "metadata": {},
   "outputs": [],
   "source": [
    "# Pick latent vector.\n",
    "rnd = np.random.RandomState(100)\n",
    "latents = rnd.randn(32, Gs.input_shape[1])\n",
    "\n",
    "# Generate image.\n",
    "fmt = dict(func=tflib.convert_images_to_uint8, nchw_to_nhwc=True)\n",
    "images = Gs.run(latents, None, truncation_psi=1, randomize_noise=True, output_transform=fmt)\n",
    "images = np.transpose(images,(0,3, 1, 2))\n",
    "images.shape"
   ]
  },
  {
   "cell_type": "code",
   "execution_count": null,
   "metadata": {},
   "outputs": [],
   "source": [
    "fig, ax = plt.subplots(5,1, figsize=(5,30))\n",
    "for i in range(5):\n",
    "    ax[i].imshow(np.transpose(np.squeeze(images[i,:,:,:]), (1,2,0)))"
   ]
  }
 ],
 "metadata": {
  "kernelspec": {
   "display_name": "Python 3",
   "language": "python",
   "name": "python3"
  },
  "language_info": {
   "codemirror_mode": {
    "name": "ipython",
    "version": 3
   },
   "file_extension": ".py",
   "mimetype": "text/x-python",
   "name": "python",
   "nbconvert_exporter": "python",
   "pygments_lexer": "ipython3",
   "version": "3.7.6"
  }
 },
 "nbformat": 4,
 "nbformat_minor": 4
}
